{
 "cells": [
  {
   "cell_type": "code",
   "execution_count": 1,
   "metadata": {},
   "outputs": [],
   "source": [
    "import pandas as pd\n",
    "import matplotlib.pyplot as plt\n",
    "import numpy as np"
   ]
  },
  {
   "cell_type": "code",
   "execution_count": 127,
   "metadata": {},
   "outputs": [
    {
     "name": "stdout",
     "output_type": "stream",
     "text": [
      "0.19.1\n"
     ]
    }
   ],
   "source": [
    "print(pd.__version__)"
   ]
  },
  {
   "cell_type": "code",
   "execution_count": 81,
   "metadata": {},
   "outputs": [],
   "source": [
    "df_CF_task2_all = pd.read_csv(\"Turkish_Gezi_protest/CF_full_report_20_05_2018.csv\",encoding='ISO-8859-1')\n",
    "df_CF_task1_all = pd.read_csv(\"Turkish_Gezi_protest/CF_task1_all_answers_best_answer_21_05_2018.csv\",encoding='ISO-8859-1')"
   ]
  },
  {
   "cell_type": "code",
   "execution_count": 82,
   "metadata": {},
   "outputs": [
    {
     "name": "stdout",
     "output_type": "stream",
     "text": [
      "cf task1 all gudgments 4675\n",
      "cf task2 all gudgments 5915\n"
     ]
    }
   ],
   "source": [
    "print('cf task1 all gudgments',len(df_CF_task1_all))\n",
    "print('cf task2 all gudgments',len(df_CF_task2_all))"
   ]
  },
  {
   "cell_type": "code",
   "execution_count": 83,
   "metadata": {},
   "outputs": [
    {
     "data": {
      "text/plain": [
       "23"
      ]
     },
     "execution_count": 83,
     "metadata": {},
     "output_type": "execute_result"
    }
   ],
   "source": [
    "len(df_CF_task1_all.columns)"
   ]
  },
  {
   "cell_type": "code",
   "execution_count": 84,
   "metadata": {},
   "outputs": [
    {
     "data": {
      "text/plain": [
       "22"
      ]
     },
     "execution_count": 84,
     "metadata": {},
     "output_type": "execute_result"
    }
   ],
   "source": [
    "len(df_CF_task2_all.columns)"
   ]
  },
  {
   "cell_type": "code",
   "execution_count": 85,
   "metadata": {},
   "outputs": [
    {
     "data": {
      "text/plain": [
       "Index(['_unit_id', '_created_at', '_golden', '_id', '_missed', '_started_at',\n",
       "       '_tainted', '_channel', '_trust', '_worker_id', '_country', '_region',\n",
       "       '_city', '_ip',\n",
       "       'does_this_tweet_reportdiscuss_violent_incidents_happened_during_the_protest',\n",
       "       'is_this_tweet_related_to_turkish_protests_2013', 'orig__golden',\n",
       "       'created_at',\n",
       "       'does_this_tweet_reportdiscuss_violent_incidents_happened_during_the_protest_gold',\n",
       "       'id', 'is_this_tweet_related_to_turkish_protests_2013_gold', 'label',\n",
       "       'text'],\n",
       "      dtype='object')"
      ]
     },
     "execution_count": 85,
     "metadata": {},
     "output_type": "execute_result"
    }
   ],
   "source": [
    "df_CF_task1_all.columns"
   ]
  },
  {
   "cell_type": "code",
   "execution_count": 86,
   "metadata": {},
   "outputs": [
    {
     "data": {
      "text/plain": [
       "Index(['_unit_id', '_created_at', '_golden', '_id', '_missed', '_started_at',\n",
       "       '_tainted', '_channel', '_trust', '_worker_id', '_country', '_region',\n",
       "       '_city', '_ip',\n",
       "       'does_this_tweet_reportdiscuss_violent_incidents_happened_during_the_protest',\n",
       "       'is_this_tweet_related_to_turkish_protests_2013', 'created_at',\n",
       "       'does_this_tweet_reportdiscuss_violent_incidents_happened_during_the_protest_gold',\n",
       "       'id', 'is_this_tweet_related_to_turkish_protests_2013_gold',\n",
       "       'proccd_text', 'text'],\n",
       "      dtype='object')"
      ]
     },
     "execution_count": 86,
     "metadata": {},
     "output_type": "execute_result"
    }
   ],
   "source": [
    "df_CF_task2_all.columns"
   ]
  },
  {
   "cell_type": "code",
   "execution_count": 87,
   "metadata": {},
   "outputs": [],
   "source": [
    "df_CF_task2_all.rename(columns={'does_this_tweet_reportdiscuss_violent_incidents_happened_during_the_protest':'violence',\n",
    "                         'is_this_tweet_related_to_turkish_protests_2013' : 'protest'}, inplace =True)"
   ]
  },
  {
   "cell_type": "code",
   "execution_count": 88,
   "metadata": {},
   "outputs": [],
   "source": [
    "df_CF_task1_all.rename(columns={'does_this_tweet_reportdiscuss_violent_incidents_happened_during_the_protest':'violence',\n",
    "                         'is_this_tweet_related_to_turkish_protests_2013' : 'protest'}, inplace =True)"
   ]
  },
  {
   "cell_type": "code",
   "execution_count": 89,
   "metadata": {},
   "outputs": [
    {
     "data": {
      "text/plain": [
       "Index(['_unit_id', '_created_at', '_golden', '_id', '_missed', '_started_at',\n",
       "       '_tainted', '_channel', '_trust', '_worker_id', '_country', '_region',\n",
       "       '_city', '_ip', 'violence', 'protest', 'created_at',\n",
       "       'does_this_tweet_reportdiscuss_violent_incidents_happened_during_the_protest_gold',\n",
       "       'id', 'is_this_tweet_related_to_turkish_protests_2013_gold',\n",
       "       'proccd_text', 'text'],\n",
       "      dtype='object')"
      ]
     },
     "execution_count": 89,
     "metadata": {},
     "output_type": "execute_result"
    }
   ],
   "source": [
    "df_CF_task2_all.columns"
   ]
  },
  {
   "cell_type": "code",
   "execution_count": 90,
   "metadata": {},
   "outputs": [],
   "source": [
    "df_CF_task1_all = df_CF_task1_all[['_unit_id', '_created_at', '_golden', '_id', '_missed', '_channel', '_trust',\n",
    "                                  '_worker_id', 'protest','is_this_tweet_related_to_turkish_protests_2013_gold',\n",
    "                                   'violence','does_this_tweet_reportdiscuss_violent_incidents_happened_during_the_protest_gold',\n",
    "                                   'text']]"
   ]
  },
  {
   "cell_type": "code",
   "execution_count": 91,
   "metadata": {},
   "outputs": [],
   "source": [
    "df_CF_task2_all = df_CF_task2_all[['_unit_id', '_created_at', '_golden', '_id', '_missed', '_channel', '_trust',\n",
    "                                  '_worker_id', 'protest','is_this_tweet_related_to_turkish_protests_2013_gold',\n",
    "                                   'violence','does_this_tweet_reportdiscuss_violent_incidents_happened_during_the_protest_gold',\n",
    "                                   'text']]"
   ]
  },
  {
   "cell_type": "code",
   "execution_count": 93,
   "metadata": {},
   "outputs": [],
   "source": [
    "df_CF_combined_tasks = pd.concat([df_CF_task1_all, df_CF_task2_all])"
   ]
  },
  {
   "cell_type": "code",
   "execution_count": 94,
   "metadata": {},
   "outputs": [
    {
     "data": {
      "text/plain": [
       "10590"
      ]
     },
     "execution_count": 94,
     "metadata": {},
     "output_type": "execute_result"
    }
   ],
   "source": [
    "len(df_CF_combined_tasks)"
   ]
  },
  {
   "cell_type": "code",
   "execution_count": 95,
   "metadata": {},
   "outputs": [
    {
     "data": {
      "text/plain": [
       "_unit_id                                                                            10590\n",
       "_created_at                                                                         10590\n",
       "_golden                                                                             10590\n",
       "_id                                                                                 10590\n",
       "_missed                                                                               218\n",
       "_channel                                                                            10590\n",
       "_trust                                                                              10590\n",
       "_worker_id                                                                          10590\n",
       "protest                                                                             10590\n",
       "is_this_tweet_related_to_turkish_protests_2013_gold                                  1558\n",
       "violence                                                                             4488\n",
       "does_this_tweet_reportdiscuss_violent_incidents_happened_during_the_protest_gold      569\n",
       "text                                                                                10590\n",
       "dtype: int64"
      ]
     },
     "execution_count": 95,
     "metadata": {},
     "output_type": "execute_result"
    }
   ],
   "source": [
    "df_CF_combined_tasks.count()"
   ]
  },
  {
   "cell_type": "code",
   "execution_count": 96,
   "metadata": {},
   "outputs": [],
   "source": [
    "df_CF_combined_tasks_misses = df_CF_combined_tasks[df_CF_combined_tasks['_missed']==True]"
   ]
  },
  {
   "cell_type": "code",
   "execution_count": 97,
   "metadata": {},
   "outputs": [],
   "source": [
    "df_CF_combined_tasks.to_csv('Turkish_Gezi_protest/CF_combined_tasks_missed_test_questions.csv')"
   ]
  },
  {
   "cell_type": "code",
   "execution_count": 98,
   "metadata": {},
   "outputs": [],
   "source": [
    "df_CF_combined_tasks_test_questions = df_CF_combined_tasks[df_CF_combined_tasks['_golden'] == True]"
   ]
  },
  {
   "cell_type": "code",
   "execution_count": 100,
   "metadata": {},
   "outputs": [
    {
     "data": {
      "text/plain": [
       "3285"
      ]
     },
     "execution_count": 100,
     "metadata": {},
     "output_type": "execute_result"
    }
   ],
   "source": [
    "len(df_CF_combined_tasks_test_questions)"
   ]
  },
  {
   "cell_type": "code",
   "execution_count": 105,
   "metadata": {},
   "outputs": [],
   "source": [
    "df_CF_combined_tasks_protest = df_CF_combined_tasks[df_CF_combined_tasks['protest'] == 1]"
   ]
  },
  {
   "cell_type": "code",
   "execution_count": 106,
   "metadata": {},
   "outputs": [
    {
     "data": {
      "text/plain": [
       "4488"
      ]
     },
     "execution_count": 106,
     "metadata": {},
     "output_type": "execute_result"
    }
   ],
   "source": [
    "len(df_CF_combined_tasks_protest)"
   ]
  },
  {
   "cell_type": "code",
   "execution_count": 108,
   "metadata": {},
   "outputs": [],
   "source": [
    "df_CF_combined_tasks_non_protest = df_CF_combined_tasks[df_CF_combined_tasks['protest'] ==0 ]"
   ]
  },
  {
   "cell_type": "code",
   "execution_count": 109,
   "metadata": {},
   "outputs": [
    {
     "data": {
      "text/plain": [
       "6102"
      ]
     },
     "execution_count": 109,
     "metadata": {},
     "output_type": "execute_result"
    }
   ],
   "source": [
    "len(df_CF_combined_tasks_non_protest)"
   ]
  },
  {
   "cell_type": "code",
   "execution_count": 111,
   "metadata": {},
   "outputs": [],
   "source": [
    "df_CF_combined_tasks_violence = df_CF_combined_tasks[df_CF_combined_tasks['violence'] == 1]"
   ]
  },
  {
   "cell_type": "code",
   "execution_count": 112,
   "metadata": {},
   "outputs": [
    {
     "data": {
      "text/plain": [
       "1201"
      ]
     },
     "execution_count": 112,
     "metadata": {},
     "output_type": "execute_result"
    }
   ],
   "source": [
    "len(df_CF_combined_tasks_violence)"
   ]
  },
  {
   "cell_type": "code",
   "execution_count": 113,
   "metadata": {},
   "outputs": [],
   "source": [
    "df_CF_combined_tasks_non_violence = df_CF_combined_tasks[df_CF_combined_tasks['violence'] == 0]"
   ]
  },
  {
   "cell_type": "code",
   "execution_count": 114,
   "metadata": {},
   "outputs": [
    {
     "data": {
      "text/plain": [
       "3207"
      ]
     },
     "execution_count": 114,
     "metadata": {},
     "output_type": "execute_result"
    }
   ],
   "source": [
    "len(df_CF_combined_tasks_non_violence)"
   ]
  },
  {
   "cell_type": "code",
   "execution_count": 121,
   "metadata": {},
   "outputs": [],
   "source": [
    "df_CF_combined_tasks_test_questions_grp_by_text = df_CF_combined_tasks_test_questions.groupby('text')"
   ]
  },
  {
   "cell_type": "code",
   "execution_count": 122,
   "metadata": {},
   "outputs": [
    {
     "data": {
      "text/plain": [
       "174"
      ]
     },
     "execution_count": 122,
     "metadata": {},
     "output_type": "execute_result"
    }
   ],
   "source": [
    "len(df_CF_combined_tasks_test_questions_grp_by_text)"
   ]
  },
  {
   "cell_type": "code",
   "execution_count": 123,
   "metadata": {},
   "outputs": [],
   "source": [
    "df_CF_combined_tasks_test_questions_grp_by_text = df_CF_combined_tasks_test_questions_grp_by_text['text','_worker_id', '_trust']"
   ]
  },
  {
   "cell_type": "code",
   "execution_count": 125,
   "metadata": {},
   "outputs": [
    {
     "data": {
      "text/plain": [
       "pandas.core.groupby.DataFrameGroupBy"
      ]
     },
     "execution_count": 125,
     "metadata": {},
     "output_type": "execute_result"
    }
   ],
   "source": [
    "type(df_CF_combined_tasks_test_questions_grp_by_text)"
   ]
  },
  {
   "cell_type": "code",
   "execution_count": 126,
   "metadata": {},
   "outputs": [
    {
     "ename": "AttributeError",
     "evalue": "'Series' object has no attribute 'aggregate'",
     "output_type": "error",
     "traceback": [
      "\u001b[0;31m---------------------------------------------------------------------------\u001b[0m",
      "\u001b[0;31mAttributeError\u001b[0m                            Traceback (most recent call last)",
      "\u001b[0;32m<ipython-input-126-001d3545dbdd>\u001b[0m in \u001b[0;36m<module>\u001b[0;34m()\u001b[0m\n\u001b[1;32m      2\u001b[0m \u001b[0;34m\u001b[0m\u001b[0m\n\u001b[1;32m      3\u001b[0m \u001b[0;32mfor\u001b[0m \u001b[0mtitle\u001b[0m\u001b[0;34m,\u001b[0m \u001b[0mgroup\u001b[0m \u001b[0;32min\u001b[0m \u001b[0mdf_CF_combined_tasks_test_questions_grp_by_text\u001b[0m\u001b[0;34m:\u001b[0m\u001b[0;34m\u001b[0m\u001b[0m\n\u001b[0;32m----> 4\u001b[0;31m     \u001b[0mavg_trust\u001b[0m \u001b[0;34m=\u001b[0m \u001b[0mgroup\u001b[0m\u001b[0;34m[\u001b[0m\u001b[0;34m'_trust'\u001b[0m\u001b[0;34m]\u001b[0m\u001b[0;34m.\u001b[0m\u001b[0maggregate\u001b[0m\u001b[0;34m(\u001b[0m\u001b[0mnp\u001b[0m\u001b[0;34m.\u001b[0m\u001b[0mmean\u001b[0m\u001b[0;34m)\u001b[0m\u001b[0;34m\u001b[0m\u001b[0m\n\u001b[0m\u001b[1;32m      5\u001b[0m     \u001b[0mmin_trust\u001b[0m \u001b[0;34m=\u001b[0m \u001b[0mgroup\u001b[0m\u001b[0;34m[\u001b[0m\u001b[0;34m'_trust'\u001b[0m\u001b[0;34m]\u001b[0m\u001b[0;34m.\u001b[0m\u001b[0maggregate\u001b[0m\u001b[0;34m(\u001b[0m\u001b[0mnp\u001b[0m\u001b[0;34m.\u001b[0m\u001b[0mmin\u001b[0m\u001b[0;34m)\u001b[0m\u001b[0;34m\u001b[0m\u001b[0m\n\u001b[1;32m      6\u001b[0m     \u001b[0mmax_trust\u001b[0m \u001b[0;34m=\u001b[0m \u001b[0mgroup\u001b[0m\u001b[0;34m[\u001b[0m\u001b[0;34m'_trust'\u001b[0m\u001b[0;34m]\u001b[0m\u001b[0;34m.\u001b[0m\u001b[0maggregate\u001b[0m\u001b[0;34m(\u001b[0m\u001b[0mnp\u001b[0m\u001b[0;34m.\u001b[0m\u001b[0mmax\u001b[0m\u001b[0;34m)\u001b[0m\u001b[0;34m\u001b[0m\u001b[0m\n",
      "\u001b[0;32m~/anaconda2/envs/conda_python_env/lib/python3.4/site-packages/pandas/core/generic.py\u001b[0m in \u001b[0;36m__getattr__\u001b[0;34m(self, name)\u001b[0m\n\u001b[1;32m   2742\u001b[0m             \u001b[0;32mif\u001b[0m \u001b[0mname\u001b[0m \u001b[0;32min\u001b[0m \u001b[0mself\u001b[0m\u001b[0;34m.\u001b[0m\u001b[0m_info_axis\u001b[0m\u001b[0;34m:\u001b[0m\u001b[0;34m\u001b[0m\u001b[0m\n\u001b[1;32m   2743\u001b[0m                 \u001b[0;32mreturn\u001b[0m \u001b[0mself\u001b[0m\u001b[0;34m[\u001b[0m\u001b[0mname\u001b[0m\u001b[0;34m]\u001b[0m\u001b[0;34m\u001b[0m\u001b[0m\n\u001b[0;32m-> 2744\u001b[0;31m             \u001b[0;32mreturn\u001b[0m \u001b[0mobject\u001b[0m\u001b[0;34m.\u001b[0m\u001b[0m__getattribute__\u001b[0m\u001b[0;34m(\u001b[0m\u001b[0mself\u001b[0m\u001b[0;34m,\u001b[0m \u001b[0mname\u001b[0m\u001b[0;34m)\u001b[0m\u001b[0;34m\u001b[0m\u001b[0m\n\u001b[0m\u001b[1;32m   2745\u001b[0m \u001b[0;34m\u001b[0m\u001b[0m\n\u001b[1;32m   2746\u001b[0m     \u001b[0;32mdef\u001b[0m \u001b[0m__setattr__\u001b[0m\u001b[0;34m(\u001b[0m\u001b[0mself\u001b[0m\u001b[0;34m,\u001b[0m \u001b[0mname\u001b[0m\u001b[0;34m,\u001b[0m \u001b[0mvalue\u001b[0m\u001b[0;34m)\u001b[0m\u001b[0;34m:\u001b[0m\u001b[0;34m\u001b[0m\u001b[0m\n",
      "\u001b[0;31mAttributeError\u001b[0m: 'Series' object has no attribute 'aggregate'"
     ]
    }
   ],
   "source": [
    "text, avg_user_trust, min_user_trust, max_user_trust = [],[],[],[]\n",
    "\n",
    "for title, group in df_CF_combined_tasks_test_questions_grp_by_text:\n",
    "    avg_trust = group['_trust'].aggregate(np.mean)\n",
    "    min_trust = group['_trust'].aggregate(np.min)\n",
    "    max_trust = group['_trust'].aggregate(np.max)\n",
    "    text.append(title)\n",
    "    avg_user_trust.append(avg_trust)\n",
    "    min_user_trust.append(min_trust)\n",
    "    max_user_trust.append(max_trust)"
   ]
  },
  {
   "cell_type": "code",
   "execution_count": 55,
   "metadata": {},
   "outputs": [],
   "source": [
    "df_CF_grouped_txt_test_question_user_trust =  pd.DataFrame({'text':text, 'avg_user_trust':avg_user_trust,\n",
    "                                                    'min_user_trust':min_user_trust,\n",
    "                                                    \"max_user_trust\":max_user_trust})"
   ]
  },
  {
   "cell_type": "code",
   "execution_count": 56,
   "metadata": {},
   "outputs": [
    {
     "data": {
      "text/html": [
       "<div>\n",
       "<table border=\"1\" class=\"dataframe\">\n",
       "  <thead>\n",
       "    <tr style=\"text-align: right;\">\n",
       "      <th></th>\n",
       "      <th>avg_user_trust</th>\n",
       "      <th>max_user_trust</th>\n",
       "      <th>min_user_trust</th>\n",
       "      <th>text</th>\n",
       "    </tr>\n",
       "  </thead>\n",
       "  <tbody>\n",
       "  </tbody>\n",
       "</table>\n",
       "</div>"
      ],
      "text/plain": [
       "Empty DataFrame\n",
       "Columns: [avg_user_trust, max_user_trust, min_user_trust, text]\n",
       "Index: []"
      ]
     },
     "execution_count": 56,
     "metadata": {},
     "output_type": "execute_result"
    }
   ],
   "source": [
    "df_CF_grouped_txt_test_question_user_trust.head()"
   ]
  },
  {
   "cell_type": "code",
   "execution_count": 57,
   "metadata": {},
   "outputs": [
    {
     "data": {
      "text/plain": [
       "1423"
      ]
     },
     "execution_count": 57,
     "metadata": {},
     "output_type": "execute_result"
    }
   ],
   "source": [
    "df_CF_all_grp_by_text= df_CF_all.groupby('text')\n",
    "len(df_CF_all_grp_by_text)"
   ]
  },
  {
   "cell_type": "code",
   "execution_count": 58,
   "metadata": {},
   "outputs": [
    {
     "data": {
      "text/plain": [
       "<matplotlib.text.Text at 0x7f9956fd3ba8>"
      ]
     },
     "execution_count": 58,
     "metadata": {},
     "output_type": "execute_result"
    },
    {
     "data": {
      "image/png": "[encoded data removed]",
      "text/plain": [
       "<matplotlib.figure.Figure at 0x7f9957037b38>"
      ]
     },
     "metadata": {},
     "output_type": "display_data"
    }
   ],
   "source": [
    "plt.hist(df_CF_grouped_txt_test_question_user_trust.avg_user_trust)\n",
    "plt.title('test questions grouped by the text')"
   ]
  },
  {
   "cell_type": "code",
   "execution_count": 79,
   "metadata": {},
   "outputs": [],
   "source": [
    "text, avg_user_trust, min_user_trust, max_user_trust = [],[],[],[]\n",
    "\n",
    "for title, group in df_CF_all_grp_by_text:\n",
    "    avg_trust = group['_trust'].aggregate(np.mean)\n",
    "    min_trust = group['_trust'].aggregate(np.min)\n",
    "    max_trust = group['_trust'].aggregate(np.max)\n",
    "    text.append(title)\n",
    "    avg_user_trust.append(avg_trust)\n",
    "    min_user_trust.append(min_trust)\n",
    "    max_user_trust.append(max_trust)"
   ]
  },
  {
   "cell_type": "code",
   "execution_count": 82,
   "metadata": {},
   "outputs": [],
   "source": [
    "df_CF_grouped_text_user_trust =  pd.DataFrame({'text':text, 'avg_user_trust':avg_user_trust,\n",
    "                                                    'min_user_trust':min_user_trust,\n",
    "                                                    \"max_user_trust\":max_user_trust})"
   ]
  },
  {
   "cell_type": "code",
   "execution_count": 83,
   "metadata": {},
   "outputs": [
    {
     "data": {
      "text/html": [
       "<div>\n",
       "<style scoped>\n",
       "    .dataframe tbody tr th:only-of-type {\n",
       "        vertical-align: middle;\n",
       "    }\n",
       "\n",
       "    .dataframe tbody tr th {\n",
       "        vertical-align: top;\n",
       "    }\n",
       "\n",
       "    .dataframe thead th {\n",
       "        text-align: right;\n",
       "    }\n",
       "</style>\n",
       "<table border=\"1\" class=\"dataframe\">\n",
       "  <thead>\n",
       "    <tr style=\"text-align: right;\">\n",
       "      <th></th>\n",
       "      <th>avg_user_trust</th>\n",
       "      <th>max_user_trust</th>\n",
       "      <th>min_user_trust</th>\n",
       "      <th>text</th>\n",
       "    </tr>\n",
       "  </thead>\n",
       "  <tbody>\n",
       "    <tr>\n",
       "      <th>0</th>\n",
       "      <td>0.993825</td>\n",
       "      <td>1.0</td>\n",
       "      <td>0.9833</td>\n",
       "      <td>! RT @ImTooKind_: Turkey meat is better than h...</td>\n",
       "    </tr>\n",
       "    <tr>\n",
       "      <th>1</th>\n",
       "      <td>0.984000</td>\n",
       "      <td>1.0</td>\n",
       "      <td>0.9600</td>\n",
       "      <td>\"@19fidel40: Silence is a crime against police...</td>\n",
       "    </tr>\n",
       "    <tr>\n",
       "      <th>2</th>\n",
       "      <td>0.997333</td>\n",
       "      <td>1.0</td>\n",
       "      <td>0.9920</td>\n",
       "      <td>\"@History_Pics: A man with a sheep on his back...</td>\n",
       "    </tr>\n",
       "    <tr>\n",
       "      <th>3</th>\n",
       "      <td>1.000000</td>\n",
       "      <td>1.0</td>\n",
       "      <td>1.0000</td>\n",
       "      <td>\"@Rosa__Luxemburg: Fight, resist, stand.\" #dir...</td>\n",
       "    </tr>\n",
       "    <tr>\n",
       "      <th>4</th>\n",
       "      <td>0.982900</td>\n",
       "      <td>1.0</td>\n",
       "      <td>0.9487</td>\n",
       "      <td>\"@WSJ: Survey: More than half of the protester...</td>\n",
       "    </tr>\n",
       "  </tbody>\n",
       "</table>\n",
       "</div>"
      ],
      "text/plain": [
       "   avg_user_trust  max_user_trust  min_user_trust  \\\n",
       "0        0.993825             1.0          0.9833   \n",
       "1        0.984000             1.0          0.9600   \n",
       "2        0.997333             1.0          0.9920   \n",
       "3        1.000000             1.0          1.0000   \n",
       "4        0.982900             1.0          0.9487   \n",
       "\n",
       "                                                text  \n",
       "0  ! RT @ImTooKind_: Turkey meat is better than h...  \n",
       "1  \"@19fidel40: Silence is a crime against police...  \n",
       "2  \"@History_Pics: A man with a sheep on his back...  \n",
       "3  \"@Rosa__Luxemburg: Fight, resist, stand.\" #dir...  \n",
       "4  \"@WSJ: Survey: More than half of the protester...  "
      ]
     },
     "execution_count": 83,
     "metadata": {},
     "output_type": "execute_result"
    }
   ],
   "source": [
    "df_CF_grouped_text_user_trust.head()"
   ]
  },
  {
   "cell_type": "code",
   "execution_count": 102,
   "metadata": {},
   "outputs": [
    {
     "data": {
      "text/plain": [
       "Text(0.5,1,'test question answers grouped by the text')"
      ]
     },
     "execution_count": 102,
     "metadata": {},
     "output_type": "execute_result"
    },
    {
     "data": {
      "image/png": "[encoded data removed]",
      "text/plain": [
       "<Figure size 432x288 with 1 Axes>"
      ]
     },
     "metadata": {},
     "output_type": "display_data"
    }
   ],
   "source": [
    "plt.hist(df_CF_grouped_text_user_trust.avg_user_trust)\n",
    "plt.title('finalized grouped by the text')"
   ]
  },
  {
   "cell_type": "code",
   "execution_count": 86,
   "metadata": {},
   "outputs": [
    {
     "data": {
      "text/plain": [
       "7"
      ]
     },
     "execution_count": 86,
     "metadata": {},
     "output_type": "execute_result"
    }
   ],
   "source": [
    "df_CF_all_grp_by_channel= df_CF_all.groupby('_channel')\n",
    "len(df_CF_all_grp_by_channel)"
   ]
  },
  {
   "cell_type": "code",
   "execution_count": 100,
   "metadata": {},
   "outputs": [
    {
     "name": "stdout",
     "output_type": "stream",
     "text": [
      "channel 0       clixsense\n",
      "1       clixsense\n",
      "2       clixsense\n",
      "3       clixsense\n",
      "4       clixsense\n",
      "5       clixsense\n",
      "6       clixsense\n",
      "8       clixsense\n",
      "9       clixsense\n",
      "10      clixsense\n",
      "11      clixsense\n",
      "12      clixsense\n",
      "13      clixsense\n",
      "14      clixsense\n",
      "15      clixsense\n",
      "16      clixsense\n",
      "17      clixsense\n",
      "18      clixsense\n",
      "19      clixsense\n",
      "20      clixsense\n",
      "22      clixsense\n",
      "23      clixsense\n",
      "24      clixsense\n",
      "25      clixsense\n",
      "26      clixsense\n",
      "27      clixsense\n",
      "28      clixsense\n",
      "29      clixsense\n",
      "31      clixsense\n",
      "32      clixsense\n",
      "          ...    \n",
      "5885    clixsense\n",
      "5886    clixsense\n",
      "5887    clixsense\n",
      "5888    clixsense\n",
      "5889    clixsense\n",
      "5890    clixsense\n",
      "5891    clixsense\n",
      "5892    clixsense\n",
      "5893    clixsense\n",
      "5894    clixsense\n",
      "5895    clixsense\n",
      "5896    clixsense\n",
      "5897    clixsense\n",
      "5898    clixsense\n",
      "5899    clixsense\n",
      "5900    clixsense\n",
      "5901    clixsense\n",
      "5902    clixsense\n",
      "5903    clixsense\n",
      "5904    clixsense\n",
      "5905    clixsense\n",
      "5906    clixsense\n",
      "5907    clixsense\n",
      "5908    clixsense\n",
      "5909    clixsense\n",
      "5910    clixsense\n",
      "5911    clixsense\n",
      "5912    clixsense\n",
      "5913    clixsense\n",
      "5914    clixsense\n",
      "Name: _channel, Length: 5687, dtype: object\n",
      "channel 182     elite\n",
      "227     elite\n",
      "286     elite\n",
      "314     elite\n",
      "338     elite\n",
      "815     elite\n",
      "1049    elite\n",
      "1071    elite\n",
      "1156    elite\n",
      "1188    elite\n",
      "1201    elite\n",
      "1601    elite\n",
      "1644    elite\n",
      "1726    elite\n",
      "1729    elite\n",
      "2095    elite\n",
      "2206    elite\n",
      "2284    elite\n",
      "2323    elite\n",
      "2408    elite\n",
      "2901    elite\n",
      "3469    elite\n",
      "3574    elite\n",
      "3589    elite\n",
      "3633    elite\n",
      "4513    elite\n",
      "5759    elite\n",
      "Name: _channel, dtype: object\n",
      "channel 359     eup_slw\n",
      "418     eup_slw\n",
      "676     eup_slw\n",
      "878     eup_slw\n",
      "1165    eup_slw\n",
      "1638    eup_slw\n",
      "1811    eup_slw\n",
      "1848    eup_slw\n",
      "1937    eup_slw\n",
      "2217    eup_slw\n",
      "Name: _channel, dtype: object\n",
      "channel 142     instagc\n",
      "498     instagc\n",
      "586     instagc\n",
      "637     instagc\n",
      "1030    instagc\n",
      "1081    instagc\n",
      "1420    instagc\n",
      "1537    instagc\n",
      "1665    instagc\n",
      "1716    instagc\n",
      "1732    instagc\n",
      "2658    instagc\n",
      "4171    instagc\n",
      "4521    instagc\n",
      "5368    instagc\n",
      "Name: _channel, dtype: object\n",
      "channel 7       neodev\n",
      "21      neodev\n",
      "30      neodev\n",
      "33      neodev\n",
      "34      neodev\n",
      "43      neodev\n",
      "60      neodev\n",
      "78      neodev\n",
      "84      neodev\n",
      "106     neodev\n",
      "125     neodev\n",
      "141     neodev\n",
      "149     neodev\n",
      "165     neodev\n",
      "169     neodev\n",
      "174     neodev\n",
      "195     neodev\n",
      "278     neodev\n",
      "313     neodev\n",
      "344     neodev\n",
      "353     neodev\n",
      "361     neodev\n",
      "376     neodev\n",
      "399     neodev\n",
      "404     neodev\n",
      "480     neodev\n",
      "514     neodev\n",
      "549     neodev\n",
      "559     neodev\n",
      "618     neodev\n",
      "         ...  \n",
      "3898    neodev\n",
      "3905    neodev\n",
      "3960    neodev\n",
      "3970    neodev\n",
      "4001    neodev\n",
      "4077    neodev\n",
      "4166    neodev\n",
      "4350    neodev\n",
      "4450    neodev\n",
      "4472    neodev\n",
      "4488    neodev\n",
      "4755    neodev\n",
      "4835    neodev\n",
      "4971    neodev\n",
      "4975    neodev\n",
      "4985    neodev\n",
      "5097    neodev\n",
      "5146    neodev\n",
      "5171    neodev\n",
      "5234    neodev\n",
      "5294    neodev\n",
      "5314    neodev\n",
      "5333    neodev\n",
      "5342    neodev\n",
      "5352    neodev\n",
      "5411    neodev\n",
      "5528    neodev\n",
      "5532    neodev\n",
      "5753    neodev\n",
      "5861    neodev\n",
      "Name: _channel, Length: 126, dtype: object\n",
      "channel 208     tremorgames\n",
      "229     tremorgames\n",
      "378     tremorgames\n",
      "421     tremorgames\n",
      "428     tremorgames\n",
      "581     tremorgames\n",
      "734     tremorgames\n",
      "988     tremorgames\n",
      "1125    tremorgames\n",
      "1133    tremorgames\n",
      "1140    tremorgames\n",
      "1271    tremorgames\n",
      "1280    tremorgames\n",
      "1426    tremorgames\n",
      "3256    tremorgames\n",
      "3266    tremorgames\n",
      "3506    tremorgames\n",
      "3512    tremorgames\n",
      "3615    tremorgames\n",
      "3707    tremorgames\n",
      "4147    tremorgames\n",
      "4230    tremorgames\n",
      "4308    tremorgames\n",
      "4583    tremorgames\n",
      "4587    tremorgames\n",
      "4611    tremorgames\n",
      "4675    tremorgames\n",
      "5029    tremorgames\n",
      "5365    tremorgames\n",
      "5445    tremorgames\n",
      "Name: _channel, dtype: object\n",
      "channel 93      wannads\n",
      "136     wannads\n",
      "362     wannads\n",
      "580     wannads\n",
      "596     wannads\n",
      "619     wannads\n",
      "705     wannads\n",
      "897     wannads\n",
      "947     wannads\n",
      "1296    wannads\n",
      "1384    wannads\n",
      "1515    wannads\n",
      "2471    wannads\n",
      "2699    wannads\n",
      "3290    wannads\n",
      "4099    wannads\n",
      "4102    wannads\n",
      "4642    wannads\n",
      "5066    wannads\n",
      "5268    wannads\n",
      "Name: _channel, dtype: object\n"
     ]
    }
   ],
   "source": [
    "text, channel = [],[]\n",
    "for title, group in df_CF_all_grp_by_channel:\n",
    "    print('channel', group['_channel'])"
   ]
  },
  {
   "cell_type": "code",
   "execution_count": 23,
   "metadata": {},
   "outputs": [
    {
     "data": {
      "text/plain": [
       "119"
      ]
     },
     "execution_count": 23,
     "metadata": {},
     "output_type": "execute_result"
    }
   ],
   "source": [
    "df_CF_all_grp_by_workers= df_CF_all.groupby('_worker_id')\n",
    "len(df_CF_all_grp_by_workers)"
   ]
  },
  {
   "cell_type": "code",
   "execution_count": 60,
   "metadata": {},
   "outputs": [
    {
     "data": {
      "text/plain": [
       "119"
      ]
     },
     "execution_count": 60,
     "metadata": {},
     "output_type": "execute_result"
    }
   ],
   "source": [
    "len(df_CF_all_test_questions.groupby('_worker_id'))"
   ]
  },
  {
   "cell_type": "code",
   "execution_count": null,
   "metadata": {},
   "outputs": [],
   "source": []
  }
 ],
 "metadata": {
  "kernelspec": {
   "display_name": "Python 3",
   "language": "python",
   "name": "python3"
  },
  "language_info": {
   "codemirror_mode": {
    "name": "ipython",
    "version": 3
   },
   "file_extension": ".py",
   "mimetype": "text/x-python",
   "name": "python",
   "nbconvert_exporter": "python",
   "pygments_lexer": "ipython3",
   "version": "3.4.5"
  }
 },
 "nbformat": 4,
 "nbformat_minor": 2
}
