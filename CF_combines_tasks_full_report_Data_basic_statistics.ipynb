{
 "cells": [
  {
   "cell_type": "code",
   "execution_count": 1,
   "metadata": {},
   "outputs": [],
   "source": [
    "import pandas as pd\n",
    "import matplotlib.pyplot as plt\n",
    "import numpy as np"
   ]
  },
  {
   "cell_type": "code",
   "execution_count": 2,
   "metadata": {},
   "outputs": [
    {
     "name": "stdout",
     "output_type": "stream",
     "text": [
      "0.22.0\n"
     ]
    }
   ],
   "source": [
    "print(pd.__version__)"
   ]
  },
  {
   "cell_type": "code",
   "execution_count": 3,
   "metadata": {},
   "outputs": [],
   "source": [
    "df_CF_task2_all = pd.read_csv(\"Turkish_Gezi_protest/CF_full_report_20_05_2018.csv\",encoding='ISO-8859-1')\n",
    "df_CF_task1_all = pd.read_csv(\"Turkish_Gezi_protest/CF_task1_all_answers_best_answer_21_05_2018.csv\",encoding='ISO-8859-1')"
   ]
  },
  {
   "cell_type": "code",
   "execution_count": 4,
   "metadata": {},
   "outputs": [
    {
     "name": "stdout",
     "output_type": "stream",
     "text": [
      "cf task1 all gudgments 4675\n",
      "cf task2 all gudgments 5915\n"
     ]
    }
   ],
   "source": [
    "print('cf task1 all gudgments',len(df_CF_task1_all))\n",
    "print('cf task2 all gudgments',len(df_CF_task2_all))"
   ]
  },
  {
   "cell_type": "code",
   "execution_count": 5,
   "metadata": {},
   "outputs": [
    {
     "data": {
      "text/plain": [
       "23"
      ]
     },
     "execution_count": 5,
     "metadata": {},
     "output_type": "execute_result"
    }
   ],
   "source": [
    "len(df_CF_task1_all.columns)"
   ]
  },
  {
   "cell_type": "code",
   "execution_count": 6,
   "metadata": {},
   "outputs": [
    {
     "data": {
      "text/plain": [
       "22"
      ]
     },
     "execution_count": 6,
     "metadata": {},
     "output_type": "execute_result"
    }
   ],
   "source": [
    "len(df_CF_task2_all.columns)"
   ]
  },
  {
   "cell_type": "code",
   "execution_count": 7,
   "metadata": {},
   "outputs": [
    {
     "data": {
      "text/plain": [
       "Index(['_unit_id', '_created_at', '_golden', '_id', '_missed', '_started_at',\n",
       "       '_tainted', '_channel', '_trust', '_worker_id', '_country', '_region',\n",
       "       '_city', '_ip',\n",
       "       'does_this_tweet_reportdiscuss_violent_incidents_happened_during_the_protest',\n",
       "       'is_this_tweet_related_to_turkish_protests_2013', 'orig__golden',\n",
       "       'created_at',\n",
       "       'does_this_tweet_reportdiscuss_violent_incidents_happened_during_the_protest_gold',\n",
       "       'id', 'is_this_tweet_related_to_turkish_protests_2013_gold', 'label',\n",
       "       'text'],\n",
       "      dtype='object')"
      ]
     },
     "execution_count": 7,
     "metadata": {},
     "output_type": "execute_result"
    }
   ],
   "source": [
    "df_CF_task1_all.columns"
   ]
  },
  {
   "cell_type": "code",
   "execution_count": 8,
   "metadata": {},
   "outputs": [
    {
     "data": {
      "text/plain": [
       "Index(['_unit_id', '_created_at', '_golden', '_id', '_missed', '_started_at',\n",
       "       '_tainted', '_channel', '_trust', '_worker_id', '_country', '_region',\n",
       "       '_city', '_ip',\n",
       "       'does_this_tweet_reportdiscuss_violent_incidents_happened_during_the_protest',\n",
       "       'is_this_tweet_related_to_turkish_protests_2013', 'created_at',\n",
       "       'does_this_tweet_reportdiscuss_violent_incidents_happened_during_the_protest_gold',\n",
       "       'id', 'is_this_tweet_related_to_turkish_protests_2013_gold',\n",
       "       'proccd_text', 'text'],\n",
       "      dtype='object')"
      ]
     },
     "execution_count": 8,
     "metadata": {},
     "output_type": "execute_result"
    }
   ],
   "source": [
    "df_CF_task2_all.columns"
   ]
  },
  {
   "cell_type": "code",
   "execution_count": 9,
   "metadata": {},
   "outputs": [],
   "source": [
    "df_CF_task2_all.rename(columns={'does_this_tweet_reportdiscuss_violent_incidents_happened_during_the_protest':'violence',\n",
    "                         'is_this_tweet_related_to_turkish_protests_2013' : 'protest'}, inplace =True)"
   ]
  },
  {
   "cell_type": "code",
   "execution_count": 10,
   "metadata": {},
   "outputs": [],
   "source": [
    "df_CF_task1_all.rename(columns={'does_this_tweet_reportdiscuss_violent_incidents_happened_during_the_protest':'violence',\n",
    "                         'is_this_tweet_related_to_turkish_protests_2013' : 'protest'}, inplace =True)"
   ]
  },
  {
   "cell_type": "code",
   "execution_count": 11,
   "metadata": {},
   "outputs": [
    {
     "data": {
      "text/plain": [
       "Index(['_unit_id', '_created_at', '_golden', '_id', '_missed', '_started_at',\n",
       "       '_tainted', '_channel', '_trust', '_worker_id', '_country', '_region',\n",
       "       '_city', '_ip', 'violence', 'protest', 'created_at',\n",
       "       'does_this_tweet_reportdiscuss_violent_incidents_happened_during_the_protest_gold',\n",
       "       'id', 'is_this_tweet_related_to_turkish_protests_2013_gold',\n",
       "       'proccd_text', 'text'],\n",
       "      dtype='object')"
      ]
     },
     "execution_count": 11,
     "metadata": {},
     "output_type": "execute_result"
    }
   ],
   "source": [
    "df_CF_task2_all.columns"
   ]
  },
  {
   "cell_type": "code",
   "execution_count": 12,
   "metadata": {},
   "outputs": [],
   "source": [
    "df_CF_task1_all = df_CF_task1_all[['_unit_id', '_created_at', '_golden', '_id', '_missed', '_channel', '_trust',\n",
    "                                  '_worker_id', 'protest','is_this_tweet_related_to_turkish_protests_2013_gold',\n",
    "                                   'violence','does_this_tweet_reportdiscuss_violent_incidents_happened_during_the_protest_gold',\n",
    "                                   'text']]"
   ]
  },
  {
   "cell_type": "code",
   "execution_count": 13,
   "metadata": {},
   "outputs": [],
   "source": [
    "df_CF_task2_all = df_CF_task2_all[['_unit_id', '_created_at', '_golden', '_id', '_missed', '_channel', '_trust',\n",
    "                                  '_worker_id', 'protest','is_this_tweet_related_to_turkish_protests_2013_gold',\n",
    "                                   'violence','does_this_tweet_reportdiscuss_violent_incidents_happened_during_the_protest_gold',\n",
    "                                   'text']]"
   ]
  },
  {
   "cell_type": "code",
   "execution_count": 14,
   "metadata": {},
   "outputs": [],
   "source": [
    "df_CF_combined_tasks = pd.concat([df_CF_task1_all, df_CF_task2_all])"
   ]
  },
  {
   "cell_type": "code",
   "execution_count": 15,
   "metadata": {},
   "outputs": [
    {
     "data": {
      "text/plain": [
       "10590"
      ]
     },
     "execution_count": 15,
     "metadata": {},
     "output_type": "execute_result"
    }
   ],
   "source": [
    "len(df_CF_combined_tasks)"
   ]
  },
  {
   "cell_type": "code",
   "execution_count": 16,
   "metadata": {},
   "outputs": [
    {
     "data": {
      "text/plain": [
       "_unit_id                                                                            10590\n",
       "_created_at                                                                         10590\n",
       "_golden                                                                             10590\n",
       "_id                                                                                 10590\n",
       "_missed                                                                               218\n",
       "_channel                                                                            10590\n",
       "_trust                                                                              10590\n",
       "_worker_id                                                                          10590\n",
       "protest                                                                             10590\n",
       "is_this_tweet_related_to_turkish_protests_2013_gold                                  1558\n",
       "violence                                                                             4488\n",
       "does_this_tweet_reportdiscuss_violent_incidents_happened_during_the_protest_gold      569\n",
       "text                                                                                10590\n",
       "dtype: int64"
      ]
     },
     "execution_count": 16,
     "metadata": {},
     "output_type": "execute_result"
    }
   ],
   "source": [
    "df_CF_combined_tasks.count()"
   ]
  },
  {
   "cell_type": "code",
   "execution_count": 17,
   "metadata": {},
   "outputs": [],
   "source": [
    "df_CF_combined_tasks_misses = df_CF_combined_tasks[df_CF_combined_tasks['_missed']==True]"
   ]
  },
  {
   "cell_type": "code",
   "execution_count": 18,
   "metadata": {},
   "outputs": [],
   "source": [
    "df_CF_combined_tasks.to_csv('Turkish_Gezi_protest/CF_combined_tasks_missed_test_questions.csv')"
   ]
  },
  {
   "cell_type": "code",
   "execution_count": 19,
   "metadata": {},
   "outputs": [],
   "source": [
    "df_CF_combined_tasks_test_questions = df_CF_combined_tasks[df_CF_combined_tasks['_golden'] == True]"
   ]
  },
  {
   "cell_type": "code",
   "execution_count": 39,
   "metadata": {},
   "outputs": [],
   "source": [
    "df_CF_combined_tasks_finalized = df_CF_combined_tasks[df_CF_combined_tasks['_golden'] != True]"
   ]
  },
  {
   "cell_type": "code",
   "execution_count": 20,
   "metadata": {},
   "outputs": [
    {
     "data": {
      "text/plain": [
       "3285"
      ]
     },
     "execution_count": 20,
     "metadata": {},
     "output_type": "execute_result"
    }
   ],
   "source": [
    "len(df_CF_combined_tasks_test_questions)"
   ]
  },
  {
   "cell_type": "code",
   "execution_count": 40,
   "metadata": {},
   "outputs": [
    {
     "data": {
      "text/plain": [
       "7305"
      ]
     },
     "execution_count": 40,
     "metadata": {},
     "output_type": "execute_result"
    }
   ],
   "source": [
    "len(df_CF_combined_tasks_finalized)"
   ]
  },
  {
   "cell_type": "code",
   "execution_count": 21,
   "metadata": {},
   "outputs": [],
   "source": [
    "df_CF_combined_tasks_protest = df_CF_combined_tasks[df_CF_combined_tasks['protest'] == 1]"
   ]
  },
  {
   "cell_type": "code",
   "execution_count": 22,
   "metadata": {},
   "outputs": [
    {
     "data": {
      "text/plain": [
       "4488"
      ]
     },
     "execution_count": 22,
     "metadata": {},
     "output_type": "execute_result"
    }
   ],
   "source": [
    "len(df_CF_combined_tasks_protest)"
   ]
  },
  {
   "cell_type": "code",
   "execution_count": 23,
   "metadata": {},
   "outputs": [],
   "source": [
    "df_CF_combined_tasks_non_protest = df_CF_combined_tasks[df_CF_combined_tasks['protest'] ==0 ]"
   ]
  },
  {
   "cell_type": "code",
   "execution_count": 24,
   "metadata": {},
   "outputs": [
    {
     "data": {
      "text/plain": [
       "6102"
      ]
     },
     "execution_count": 24,
     "metadata": {},
     "output_type": "execute_result"
    }
   ],
   "source": [
    "len(df_CF_combined_tasks_non_protest)"
   ]
  },
  {
   "cell_type": "code",
   "execution_count": 25,
   "metadata": {},
   "outputs": [],
   "source": [
    "df_CF_combined_tasks_violence = df_CF_combined_tasks[df_CF_combined_tasks['violence'] == 1]"
   ]
  },
  {
   "cell_type": "code",
   "execution_count": 26,
   "metadata": {},
   "outputs": [
    {
     "data": {
      "text/plain": [
       "1201"
      ]
     },
     "execution_count": 26,
     "metadata": {},
     "output_type": "execute_result"
    }
   ],
   "source": [
    "len(df_CF_combined_tasks_violence)"
   ]
  },
  {
   "cell_type": "code",
   "execution_count": 27,
   "metadata": {},
   "outputs": [],
   "source": [
    "df_CF_combined_tasks_non_violence = df_CF_combined_tasks[df_CF_combined_tasks['violence'] == 0]"
   ]
  },
  {
   "cell_type": "code",
   "execution_count": 28,
   "metadata": {},
   "outputs": [
    {
     "data": {
      "text/plain": [
       "3207"
      ]
     },
     "execution_count": 28,
     "metadata": {},
     "output_type": "execute_result"
    }
   ],
   "source": [
    "len(df_CF_combined_tasks_non_violence)"
   ]
  },
  {
   "cell_type": "code",
   "execution_count": 29,
   "metadata": {},
   "outputs": [],
   "source": [
    "df_CF_combined_tasks_test_questions_grp_by_text = df_CF_combined_tasks_test_questions.groupby('text')"
   ]
  },
  {
   "cell_type": "code",
   "execution_count": 30,
   "metadata": {},
   "outputs": [
    {
     "data": {
      "text/plain": [
       "174"
      ]
     },
     "execution_count": 30,
     "metadata": {},
     "output_type": "execute_result"
    }
   ],
   "source": [
    "len(df_CF_combined_tasks_test_questions_grp_by_text)"
   ]
  },
  {
   "cell_type": "code",
   "execution_count": 31,
   "metadata": {},
   "outputs": [],
   "source": [
    "df_CF_combined_tasks_test_questions_grp_by_text = df_CF_combined_tasks_test_questions_grp_by_text['text','_worker_id', '_trust']"
   ]
  },
  {
   "cell_type": "code",
   "execution_count": 33,
   "metadata": {},
   "outputs": [],
   "source": [
    "text, avg_user_trust, min_user_trust, max_user_trust = [],[],[],[]\n",
    "\n",
    "for title, group in df_CF_combined_tasks_test_questions_grp_by_text:\n",
    "    avg_trust = group['_trust'].aggregate(np.mean)\n",
    "    min_trust = group['_trust'].aggregate(np.min)\n",
    "    max_trust = group['_trust'].aggregate(np.max)\n",
    "    text.append(title)\n",
    "    avg_user_trust.append(avg_trust)\n",
    "    min_user_trust.append(min_trust)\n",
    "    max_user_trust.append(max_trust)"
   ]
  },
  {
   "cell_type": "code",
   "execution_count": 37,
   "metadata": {},
   "outputs": [],
   "source": [
    "df_CF_combined_tasks_test_questions_grp_by_text_user_trust =  pd.DataFrame({'text':text, 'avg_user_trust':avg_user_trust,\n",
    "                                                    'min_user_trust':min_user_trust,\n",
    "                                                    \"max_user_trust\":max_user_trust})"
   ]
  },
  {
   "cell_type": "code",
   "execution_count": 38,
   "metadata": {},
   "outputs": [
    {
     "data": {
      "text/html": [
       "<div>\n",
       "<style scoped>\n",
       "    .dataframe tbody tr th:only-of-type {\n",
       "        vertical-align: middle;\n",
       "    }\n",
       "\n",
       "    .dataframe tbody tr th {\n",
       "        vertical-align: top;\n",
       "    }\n",
       "\n",
       "    .dataframe thead th {\n",
       "        text-align: right;\n",
       "    }\n",
       "</style>\n",
       "<table border=\"1\" class=\"dataframe\">\n",
       "  <thead>\n",
       "    <tr style=\"text-align: right;\">\n",
       "      <th></th>\n",
       "      <th>avg_user_trust</th>\n",
       "      <th>max_user_trust</th>\n",
       "      <th>min_user_trust</th>\n",
       "      <th>text</th>\n",
       "    </tr>\n",
       "  </thead>\n",
       "  <tbody>\n",
       "    <tr>\n",
       "      <th>0</th>\n",
       "      <td>0.993370</td>\n",
       "      <td>1.0</td>\n",
       "      <td>0.9487</td>\n",
       "      <td>\"As It Fights in #Syria  #Hezbollah Seen Unfav...</td>\n",
       "    </tr>\n",
       "    <tr>\n",
       "      <th>1</th>\n",
       "      <td>0.992212</td>\n",
       "      <td>1.0</td>\n",
       "      <td>0.9474</td>\n",
       "      <td>\"Turkey's premier lashes out  markets fall\" ht...</td>\n",
       "    </tr>\n",
       "    <tr>\n",
       "      <th>2</th>\n",
       "      <td>0.997675</td>\n",
       "      <td>1.0</td>\n",
       "      <td>0.9907</td>\n",
       "      <td>#BumpShowMeetBieber TURKEY X37</td>\n",
       "    </tr>\n",
       "    <tr>\n",
       "      <th>3</th>\n",
       "      <td>0.998838</td>\n",
       "      <td>1.0</td>\n",
       "      <td>0.9907</td>\n",
       "      <td>#Erdogan just arrived at #Turkey airport and t...</td>\n",
       "    </tr>\n",
       "    <tr>\n",
       "      <th>4</th>\n",
       "      <td>0.998140</td>\n",
       "      <td>1.0</td>\n",
       "      <td>0.9907</td>\n",
       "      <td>#Turkey gives direct investment to #Somalia; c...</td>\n",
       "    </tr>\n",
       "  </tbody>\n",
       "</table>\n",
       "</div>"
      ],
      "text/plain": [
       "   avg_user_trust  max_user_trust  min_user_trust  \\\n",
       "0        0.993370             1.0          0.9487   \n",
       "1        0.992212             1.0          0.9474   \n",
       "2        0.997675             1.0          0.9907   \n",
       "3        0.998838             1.0          0.9907   \n",
       "4        0.998140             1.0          0.9907   \n",
       "\n",
       "                                                text  \n",
       "0  \"As It Fights in #Syria  #Hezbollah Seen Unfav...  \n",
       "1  \"Turkey's premier lashes out  markets fall\" ht...  \n",
       "2                     #BumpShowMeetBieber TURKEY X37  \n",
       "3  #Erdogan just arrived at #Turkey airport and t...  \n",
       "4  #Turkey gives direct investment to #Somalia; c...  "
      ]
     },
     "execution_count": 38,
     "metadata": {},
     "output_type": "execute_result"
    }
   ],
   "source": [
    "df_CF_combined_tasks_test_questions_grp_by_text_user_trust.head()"
   ]
  },
  {
   "cell_type": "code",
   "execution_count": 42,
   "metadata": {},
   "outputs": [
    {
     "data": {
      "text/plain": [
       "Text(0.5,1,'test questions grouped by the text')"
      ]
     },
     "execution_count": 42,
     "metadata": {},
     "output_type": "execute_result"
    },
    {
     "data": {
      "image/png": "[encoded data removed]",
      "text/plain": [
       "<Figure size 432x288 with 1 Axes>"
      ]
     },
     "metadata": {},
     "output_type": "display_data"
    }
   ],
   "source": [
    "plt.hist(df_CF_combined_tasks_test_questions_grp_by_text_user_trust.avg_user_trust)\n",
    "plt.title('test questions grouped by the text')"
   ]
  },
  {
   "cell_type": "code",
   "execution_count": 41,
   "metadata": {},
   "outputs": [
    {
     "data": {
      "text/plain": [
       "2258"
      ]
     },
     "execution_count": 41,
     "metadata": {},
     "output_type": "execute_result"
    }
   ],
   "source": [
    "df_CF_combined_tasks_finalized_grb_by_text= df_CF_combined_tasks_finalized.groupby('text')\n",
    "len(df_CF_combined_tasks_finalized_grb_by_text)"
   ]
  },
  {
   "cell_type": "code",
   "execution_count": 44,
   "metadata": {},
   "outputs": [],
   "source": [
    "text, avg_user_trust, min_user_trust, max_user_trust = [],[],[],[]\n",
    "\n",
    "for title, group in df_CF_combined_tasks_finalized_grb_by_text:\n",
    "    avg_trust = group['_trust'].aggregate(np.mean)\n",
    "    min_trust = group['_trust'].aggregate(np.min)\n",
    "    max_trust = group['_trust'].aggregate(np.max)\n",
    "    text.append(title)\n",
    "    avg_user_trust.append(avg_trust)\n",
    "    min_user_trust.append(min_trust)\n",
    "    max_user_trust.append(max_trust)"
   ]
  },
  {
   "cell_type": "code",
   "execution_count": 48,
   "metadata": {},
   "outputs": [],
   "source": [
    "df_CF_combined_tasks_finalized_grb_by_text_user_trust =  pd.DataFrame({'text':text, 'avg_user_trust':avg_user_trust,\n",
    "                                                    'min_user_trust':min_user_trust,\n",
    "                                                    \"max_user_trust\":max_user_trust})"
   ]
  },
  {
   "cell_type": "code",
   "execution_count": 50,
   "metadata": {},
   "outputs": [
    {
     "data": {
      "text/plain": [
       "2258"
      ]
     },
     "execution_count": 50,
     "metadata": {},
     "output_type": "execute_result"
    }
   ],
   "source": [
    "len(df_CF_combined_tasks_finalized_grb_by_text_user_trust)"
   ]
  },
  {
   "cell_type": "code",
   "execution_count": 51,
   "metadata": {},
   "outputs": [
    {
     "data": {
      "text/plain": [
       "Text(0.5,1,'finalized grouped by the text')"
      ]
     },
     "execution_count": 51,
     "metadata": {},
     "output_type": "execute_result"
    },
    {
     "data": {
      "image/png": "[encoded data removed]",
      "text/plain": [
       "<Figure size 432x288 with 1 Axes>"
      ]
     },
     "metadata": {},
     "output_type": "display_data"
    }
   ],
   "source": [
    "plt.hist(df_CF_combined_tasks_finalized_grb_by_text_user_trust.avg_user_trust)\n",
    "plt.title('finalized grouped by the text')"
   ]
  },
  {
   "cell_type": "code",
   "execution_count": 52,
   "metadata": {},
   "outputs": [
    {
     "data": {
      "text/plain": [
       "8"
      ]
     },
     "execution_count": 52,
     "metadata": {},
     "output_type": "execute_result"
    }
   ],
   "source": [
    "df_CF_combined_tasks_grp_by_channel= df_CF_combined_tasks.groupby('_channel')\n",
    "len(df_CF_combined_tasks_grp_by_channel)"
   ]
  },
  {
   "cell_type": "code",
   "execution_count": 54,
   "metadata": {},
   "outputs": [
    {
     "name": "stdout",
     "output_type": "stream",
     "text": [
      "channel 0       clixsense\n",
      "1       clixsense\n",
      "4       clixsense\n",
      "5       clixsense\n",
      "6       clixsense\n",
      "7       clixsense\n",
      "9       clixsense\n",
      "10      clixsense\n",
      "11      clixsense\n",
      "13      clixsense\n",
      "14      clixsense\n",
      "15      clixsense\n",
      "17      clixsense\n",
      "18      clixsense\n",
      "20      clixsense\n",
      "21      clixsense\n",
      "22      clixsense\n",
      "23      clixsense\n",
      "24      clixsense\n",
      "25      clixsense\n",
      "26      clixsense\n",
      "27      clixsense\n",
      "28      clixsense\n",
      "32      clixsense\n",
      "33      clixsense\n",
      "34      clixsense\n",
      "36      clixsense\n",
      "37      clixsense\n",
      "38      clixsense\n",
      "41      clixsense\n",
      "          ...    \n",
      "5885    clixsense\n",
      "5886    clixsense\n",
      "5887    clixsense\n",
      "5888    clixsense\n",
      "5889    clixsense\n",
      "5890    clixsense\n",
      "5891    clixsense\n",
      "5892    clixsense\n",
      "5893    clixsense\n",
      "5894    clixsense\n",
      "5895    clixsense\n",
      "5896    clixsense\n",
      "5897    clixsense\n",
      "5898    clixsense\n",
      "5899    clixsense\n",
      "5900    clixsense\n",
      "5901    clixsense\n",
      "5902    clixsense\n",
      "5903    clixsense\n",
      "5904    clixsense\n",
      "5905    clixsense\n",
      "5906    clixsense\n",
      "5907    clixsense\n",
      "5908    clixsense\n",
      "5909    clixsense\n",
      "5910    clixsense\n",
      "5911    clixsense\n",
      "5912    clixsense\n",
      "5913    clixsense\n",
      "5914    clixsense\n",
      "Name: _channel, Length: 8437, dtype: object\n",
      "channel 1698    elite\n",
      "1779    elite\n",
      "1869    elite\n",
      "1944    elite\n",
      "3802    elite\n",
      "3948    elite\n",
      "4116    elite\n",
      "4337    elite\n",
      "4575    elite\n",
      "4668    elite\n",
      "182     elite\n",
      "227     elite\n",
      "286     elite\n",
      "314     elite\n",
      "338     elite\n",
      "815     elite\n",
      "1049    elite\n",
      "1071    elite\n",
      "1156    elite\n",
      "1188    elite\n",
      "1201    elite\n",
      "1601    elite\n",
      "1644    elite\n",
      "1726    elite\n",
      "1729    elite\n",
      "2095    elite\n",
      "2206    elite\n",
      "2284    elite\n",
      "2323    elite\n",
      "2408    elite\n",
      "2901    elite\n",
      "3469    elite\n",
      "3574    elite\n",
      "3589    elite\n",
      "3633    elite\n",
      "4513    elite\n",
      "5759    elite\n",
      "Name: _channel, dtype: object\n",
      "channel 2       eup_slw\n",
      "8       eup_slw\n",
      "16      eup_slw\n",
      "19      eup_slw\n",
      "29      eup_slw\n",
      "30      eup_slw\n",
      "35      eup_slw\n",
      "44      eup_slw\n",
      "45      eup_slw\n",
      "52      eup_slw\n",
      "66      eup_slw\n",
      "70      eup_slw\n",
      "82      eup_slw\n",
      "87      eup_slw\n",
      "90      eup_slw\n",
      "93      eup_slw\n",
      "97      eup_slw\n",
      "100     eup_slw\n",
      "103     eup_slw\n",
      "118     eup_slw\n",
      "121     eup_slw\n",
      "124     eup_slw\n",
      "127     eup_slw\n",
      "135     eup_slw\n",
      "142     eup_slw\n",
      "162     eup_slw\n",
      "167     eup_slw\n",
      "168     eup_slw\n",
      "171     eup_slw\n",
      "174     eup_slw\n",
      "         ...   \n",
      "3166    eup_slw\n",
      "3183    eup_slw\n",
      "3205    eup_slw\n",
      "3224    eup_slw\n",
      "3243    eup_slw\n",
      "3265    eup_slw\n",
      "3292    eup_slw\n",
      "3312    eup_slw\n",
      "3334    eup_slw\n",
      "3354    eup_slw\n",
      "3375    eup_slw\n",
      "3399    eup_slw\n",
      "3413    eup_slw\n",
      "3436    eup_slw\n",
      "3448    eup_slw\n",
      "3456    eup_slw\n",
      "3473    eup_slw\n",
      "3486    eup_slw\n",
      "3511    eup_slw\n",
      "4078    eup_slw\n",
      "359     eup_slw\n",
      "418     eup_slw\n",
      "676     eup_slw\n",
      "878     eup_slw\n",
      "1165    eup_slw\n",
      "1638    eup_slw\n",
      "1811    eup_slw\n",
      "1848    eup_slw\n",
      "1937    eup_slw\n",
      "2217    eup_slw\n",
      "Name: _channel, Length: 100, dtype: object\n",
      "channel 1824    instagc\n",
      "1899    instagc\n",
      "2959    instagc\n",
      "2986    instagc\n",
      "3161    instagc\n",
      "3201    instagc\n",
      "3260    instagc\n",
      "3328    instagc\n",
      "3393    instagc\n",
      "3395    instagc\n",
      "3675    instagc\n",
      "4175    instagc\n",
      "4312    instagc\n",
      "4517    instagc\n",
      "4619    instagc\n",
      "142     instagc\n",
      "498     instagc\n",
      "586     instagc\n",
      "637     instagc\n",
      "1030    instagc\n",
      "1081    instagc\n",
      "1420    instagc\n",
      "1537    instagc\n",
      "1665    instagc\n",
      "1716    instagc\n",
      "1732    instagc\n",
      "2658    instagc\n",
      "4171    instagc\n",
      "4521    instagc\n",
      "5368    instagc\n",
      "Name: _channel, dtype: object\n",
      "channel 3       neodev\n",
      "31      neodev\n",
      "39      neodev\n",
      "47      neodev\n",
      "53      neodev\n",
      "69      neodev\n",
      "72      neodev\n",
      "88      neodev\n",
      "91      neodev\n",
      "96      neodev\n",
      "98      neodev\n",
      "102     neodev\n",
      "143     neodev\n",
      "164     neodev\n",
      "170     neodev\n",
      "173     neodev\n",
      "175     neodev\n",
      "187     neodev\n",
      "192     neodev\n",
      "199     neodev\n",
      "205     neodev\n",
      "219     neodev\n",
      "225     neodev\n",
      "246     neodev\n",
      "251     neodev\n",
      "258     neodev\n",
      "264     neodev\n",
      "302     neodev\n",
      "314     neodev\n",
      "315     neodev\n",
      "         ...  \n",
      "3898    neodev\n",
      "3905    neodev\n",
      "3960    neodev\n",
      "3970    neodev\n",
      "4001    neodev\n",
      "4077    neodev\n",
      "4166    neodev\n",
      "4350    neodev\n",
      "4450    neodev\n",
      "4472    neodev\n",
      "4488    neodev\n",
      "4755    neodev\n",
      "4835    neodev\n",
      "4971    neodev\n",
      "4975    neodev\n",
      "4985    neodev\n",
      "5097    neodev\n",
      "5146    neodev\n",
      "5171    neodev\n",
      "5234    neodev\n",
      "5294    neodev\n",
      "5314    neodev\n",
      "5333    neodev\n",
      "5342    neodev\n",
      "5352    neodev\n",
      "5411    neodev\n",
      "5528    neodev\n",
      "5532    neodev\n",
      "5753    neodev\n",
      "5861    neodev\n",
      "Name: _channel, Length: 1811, dtype: object\n",
      "channel 67      personaly\n",
      "94      personaly\n",
      "190     personaly\n",
      "346     personaly\n",
      "704     personaly\n",
      "725     personaly\n",
      "751     personaly\n",
      "778     personaly\n",
      "802     personaly\n",
      "808     personaly\n",
      "824     personaly\n",
      "836     personaly\n",
      "839     personaly\n",
      "855     personaly\n",
      "883     personaly\n",
      "904     personaly\n",
      "922     personaly\n",
      "940     personaly\n",
      "944     personaly\n",
      "956     personaly\n",
      "959     personaly\n",
      "995     personaly\n",
      "1029    personaly\n",
      "1059    personaly\n",
      "1072    personaly\n",
      "1076    personaly\n",
      "1080    personaly\n",
      "1092    personaly\n",
      "1098    personaly\n",
      "1110    personaly\n",
      "          ...    \n",
      "1486    personaly\n",
      "1513    personaly\n",
      "1535    personaly\n",
      "1553    personaly\n",
      "1562    personaly\n",
      "1577    personaly\n",
      "1581    personaly\n",
      "1588    personaly\n",
      "1594    personaly\n",
      "1614    personaly\n",
      "3167    personaly\n",
      "3266    personaly\n",
      "3343    personaly\n",
      "3355    personaly\n",
      "3412    personaly\n",
      "3449    personaly\n",
      "3455    personaly\n",
      "3540    personaly\n",
      "3546    personaly\n",
      "3592    personaly\n",
      "3834    personaly\n",
      "3993    personaly\n",
      "4016    personaly\n",
      "4054    personaly\n",
      "4075    personaly\n",
      "4114    personaly\n",
      "4122    personaly\n",
      "4158    personaly\n",
      "4179    personaly\n",
      "4190    personaly\n",
      "Name: _channel, Length: 80, dtype: object\n",
      "channel 12      tremorgames\n",
      "40      tremorgames\n",
      "61      tremorgames\n",
      "81      tremorgames\n",
      "117     tremorgames\n",
      "148     tremorgames\n",
      "160     tremorgames\n",
      "200     tremorgames\n",
      "230     tremorgames\n",
      "236     tremorgames\n",
      "252     tremorgames\n",
      "272     tremorgames\n",
      "293     tremorgames\n",
      "298     tremorgames\n",
      "334     tremorgames\n",
      "339     tremorgames\n",
      "367     tremorgames\n",
      "376     tremorgames\n",
      "469     tremorgames\n",
      "591     tremorgames\n",
      "790     tremorgames\n",
      "980     tremorgames\n",
      "1036    tremorgames\n",
      "1113    tremorgames\n",
      "1273    tremorgames\n",
      "1336    tremorgames\n",
      "1480    tremorgames\n",
      "1597    tremorgames\n",
      "3137    tremorgames\n",
      "3149    tremorgames\n",
      "           ...     \n",
      "208     tremorgames\n",
      "229     tremorgames\n",
      "378     tremorgames\n",
      "421     tremorgames\n",
      "428     tremorgames\n",
      "581     tremorgames\n",
      "734     tremorgames\n",
      "988     tremorgames\n",
      "1125    tremorgames\n",
      "1133    tremorgames\n",
      "1140    tremorgames\n",
      "1271    tremorgames\n",
      "1280    tremorgames\n",
      "1426    tremorgames\n",
      "3256    tremorgames\n",
      "3266    tremorgames\n",
      "3506    tremorgames\n",
      "3512    tremorgames\n",
      "3615    tremorgames\n",
      "3707    tremorgames\n",
      "4147    tremorgames\n",
      "4230    tremorgames\n",
      "4308    tremorgames\n",
      "4583    tremorgames\n",
      "4587    tremorgames\n",
      "4611    tremorgames\n",
      "4675    tremorgames\n",
      "5029    tremorgames\n",
      "5365    tremorgames\n",
      "5445    tremorgames\n",
      "Name: _channel, Length: 75, dtype: object\n",
      "channel 93      wannads\n",
      "136     wannads\n",
      "362     wannads\n",
      "580     wannads\n",
      "596     wannads\n",
      "619     wannads\n",
      "705     wannads\n",
      "897     wannads\n",
      "947     wannads\n",
      "1296    wannads\n",
      "1384    wannads\n",
      "1515    wannads\n",
      "2471    wannads\n",
      "2699    wannads\n",
      "3290    wannads\n",
      "4099    wannads\n",
      "4102    wannads\n",
      "4642    wannads\n",
      "5066    wannads\n",
      "5268    wannads\n",
      "Name: _channel, dtype: object\n"
     ]
    }
   ],
   "source": [
    "for title, group in df_CF_combined_tasks_grp_by_channel:\n",
    "    print('channel', group['_channel'])"
   ]
  },
  {
   "cell_type": "code",
   "execution_count": 55,
   "metadata": {},
   "outputs": [
    {
     "data": {
      "text/plain": [
       "243"
      ]
     },
     "execution_count": 55,
     "metadata": {},
     "output_type": "execute_result"
    }
   ],
   "source": [
    "df_CF_combined_tasks_grp_by_workers= df_CF_combined_tasks.groupby('_worker_id')\n",
    "len(df_CF_combined_tasks_grp_by_workers)"
   ]
  },
  {
   "cell_type": "code",
   "execution_count": 56,
   "metadata": {},
   "outputs": [
    {
     "data": {
      "text/plain": [
       "243"
      ]
     },
     "execution_count": 56,
     "metadata": {},
     "output_type": "execute_result"
    }
   ],
   "source": [
    "len(df_CF_combined_tasks_test_questions.groupby('_worker_id'))"
   ]
  },
  {
   "cell_type": "code",
   "execution_count": null,
   "metadata": {},
   "outputs": [],
   "source": []
  }
 ],
 "metadata": {
  "kernelspec": {
   "display_name": "Python 3",
   "language": "python",
   "name": "python3"
  },
  "language_info": {
   "codemirror_mode": {
    "name": "ipython",
    "version": 3
   },
   "file_extension": ".py",
   "mimetype": "text/x-python",
   "name": "python",
   "nbconvert_exporter": "python",
   "pygments_lexer": "ipython3",
   "version": "3.5.3"
  }
 },
 "nbformat": 4,
 "nbformat_minor": 2
}
