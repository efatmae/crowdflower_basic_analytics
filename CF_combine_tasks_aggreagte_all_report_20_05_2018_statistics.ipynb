{
 "cells": [
  {
   "cell_type": "code",
   "execution_count": 2,
   "metadata": {},
   "outputs": [],
   "source": [
    "import pandas as pd\n",
    "import matplotlib.pyplot as plt\n",
    "import numpy as np"
   ]
  },
  {
   "cell_type": "code",
   "execution_count": 6,
   "metadata": {},
   "outputs": [],
   "source": [
    "df_CF_task2_aggregate = pd.read_csv(\"Turkish_Gezi_protest/CF_aggreate_best_answer_report_20_05_2018.csv\")\n",
    "df_CF_task1_aggregate = pd.read_csv(\"Turkish_Gezi_protest/CF_Task1_aggregated_best_answer_21_05_2018.csv\")"
   ]
  },
  {
   "cell_type": "code",
   "execution_count": 7,
   "metadata": {},
   "outputs": [
    {
     "name": "stdout",
     "output_type": "stream",
     "text": [
      "cf task1 all gudgments 1197\n",
      "cf task2 all gudgments 1440\n"
     ]
    }
   ],
   "source": [
    "print('cf task1 all gudgments',len(df_CF_task1_aggregate))\n",
    "print('cf task2 all gudgments',len(df_CF_task2_aggregate))"
   ]
  },
  {
   "cell_type": "code",
   "execution_count": 9,
   "metadata": {},
   "outputs": [
    {
     "data": {
      "text/plain": [
       "16"
      ]
     },
     "execution_count": 9,
     "metadata": {},
     "output_type": "execute_result"
    }
   ],
   "source": [
    "len(df_CF_task1_aggregate.columns)"
   ]
  },
  {
   "cell_type": "code",
   "execution_count": 10,
   "metadata": {},
   "outputs": [
    {
     "data": {
      "text/plain": [
       "15"
      ]
     },
     "execution_count": 10,
     "metadata": {},
     "output_type": "execute_result"
    }
   ],
   "source": [
    "len(df_CF_task2_aggregate.columns)"
   ]
  },
  {
   "cell_type": "code",
   "execution_count": 11,
   "metadata": {},
   "outputs": [
    {
     "data": {
      "text/plain": [
       "Index(['_unit_id', '_golden', '_unit_state', '_trusted_judgments',\n",
       "       '_last_judgment_at',\n",
       "       'does_this_tweet_reportdiscuss_violent_incidents_happened_during_the_protest',\n",
       "       'does_this_tweet_reportdiscuss_violent_incidents_happened_during_the_protest:confidence',\n",
       "       'is_this_tweet_related_to_turkish_protests_2013',\n",
       "       'is_this_tweet_related_to_turkish_protests_2013:confidence',\n",
       "       'orig__golden', 'created_at',\n",
       "       'does_this_tweet_reportdiscuss_violent_incidents_happened_during_the_protest_gold',\n",
       "       'id', 'is_this_tweet_related_to_turkish_protests_2013_gold', 'label',\n",
       "       'text'],\n",
       "      dtype='object')"
      ]
     },
     "execution_count": 11,
     "metadata": {},
     "output_type": "execute_result"
    }
   ],
   "source": [
    "df_CF_task1_aggregate.columns"
   ]
  },
  {
   "cell_type": "code",
   "execution_count": 12,
   "metadata": {},
   "outputs": [
    {
     "data": {
      "text/plain": [
       "Index(['_unit_id', '_golden', '_unit_state', '_trusted_judgments',\n",
       "       '_last_judgment_at',\n",
       "       'does_this_tweet_reportdiscuss_violent_incidents_happened_during_the_protest',\n",
       "       'does_this_tweet_reportdiscuss_violent_incidents_happened_during_the_protest:confidence',\n",
       "       'is_this_tweet_related_to_turkish_protests_2013',\n",
       "       'is_this_tweet_related_to_turkish_protests_2013:confidence',\n",
       "       'created_at',\n",
       "       'does_this_tweet_reportdiscuss_violent_incidents_happened_during_the_protest_gold',\n",
       "       'id', 'is_this_tweet_related_to_turkish_protests_2013_gold',\n",
       "       'proccd_text', 'text'],\n",
       "      dtype='object')"
      ]
     },
     "execution_count": 12,
     "metadata": {},
     "output_type": "execute_result"
    }
   ],
   "source": [
    "df_CF_task2_aggregate.columns"
   ]
  },
  {
   "cell_type": "code",
   "execution_count": 14,
   "metadata": {},
   "outputs": [],
   "source": [
    "df_CF_task1_aggregate.rename(columns={'does_this_tweet_reportdiscuss_violent_incidents_happened_during_the_protest':'violence',\n",
    "                         'is_this_tweet_related_to_turkish_protests_2013' : 'protest',\n",
    "                             'is_this_tweet_related_to_turkish_protests_2013:confidence': 'protest_confidence',\n",
    "                               'is_this_tweet_related_to_turkish_protests_2013_gold': 'protest_gold',\n",
    "        'does_this_tweet_reportdiscuss_violent_incidents_happened_during_the_protest': 'violence',\n",
    "          'does_this_tweet_reportdiscuss_violent_incidents_happened_during_the_protest:confidence': 'violence_confidence',\n",
    "           'does_this_tweet_reportdiscuss_violent_incidents_happened_during_the_protest_gold':'violence_gold'}, inplace =True)"
   ]
  },
  {
   "cell_type": "code",
   "execution_count": 15,
   "metadata": {},
   "outputs": [],
   "source": [
    "df_CF_task2_aggregate.rename(columns={'does_this_tweet_reportdiscuss_violent_incidents_happened_during_the_protest':'violence',\n",
    "                         'is_this_tweet_related_to_turkish_protests_2013' : 'protest',\n",
    "                             'is_this_tweet_related_to_turkish_protests_2013:confidence': 'protest_confidence',\n",
    "                               'is_this_tweet_related_to_turkish_protests_2013_gold': 'protest_gold',\n",
    "        'does_this_tweet_reportdiscuss_violent_incidents_happened_during_the_protest': 'violence',\n",
    "          'does_this_tweet_reportdiscuss_violent_incidents_happened_during_the_protest:confidence': 'violence_confidence',\n",
    "           'does_this_tweet_reportdiscuss_violent_incidents_happened_during_the_protest_gold':'violence_gold'}, inplace =True)"
   ]
  },
  {
   "cell_type": "code",
   "execution_count": 16,
   "metadata": {},
   "outputs": [
    {
     "data": {
      "text/plain": [
       "Index(['_unit_id', '_golden', '_unit_state', '_trusted_judgments',\n",
       "       '_last_judgment_at', 'violence', 'violence_confidence', 'protest',\n",
       "       'protest_confidence', 'orig__golden', 'created_at', 'violence_gold',\n",
       "       'id', 'protest_gold', 'label', 'text'],\n",
       "      dtype='object')"
      ]
     },
     "execution_count": 16,
     "metadata": {},
     "output_type": "execute_result"
    }
   ],
   "source": [
    "df_CF_task1_aggregate.columns"
   ]
  },
  {
   "cell_type": "code",
   "execution_count": 17,
   "metadata": {},
   "outputs": [
    {
     "data": {
      "text/plain": [
       "Index(['_unit_id', '_golden', '_unit_state', '_trusted_judgments',\n",
       "       '_last_judgment_at', 'violence', 'violence_confidence', 'protest',\n",
       "       'protest_confidence', 'created_at', 'violence_gold', 'id',\n",
       "       'protest_gold', 'proccd_text', 'text'],\n",
       "      dtype='object')"
      ]
     },
     "execution_count": 17,
     "metadata": {},
     "output_type": "execute_result"
    }
   ],
   "source": [
    "df_CF_task2_aggregate.columns"
   ]
  },
  {
   "cell_type": "code",
   "execution_count": 19,
   "metadata": {},
   "outputs": [],
   "source": [
    "df_CF_task1_aggregate = df_CF_task1_aggregate[['_unit_id', '_golden', '_trusted_judgments', 'violence', 'violence_confidence',\n",
    "                                              'violence_gold', 'protest', 'protest_confidence', 'protest_gold',\n",
    "                                              'id', 'text', 'created_at']]"
   ]
  },
  {
   "cell_type": "code",
   "execution_count": 20,
   "metadata": {},
   "outputs": [],
   "source": [
    "df_CF_task2_aggregate = df_CF_task1_aggregate[['_unit_id', '_golden', '_trusted_judgments', 'violence', 'violence_confidence',\n",
    "                                              'violence_gold', 'protest', 'protest_confidence', 'protest_gold',\n",
    "                                              'id', 'text', 'created_at']]"
   ]
  },
  {
   "cell_type": "code",
   "execution_count": 21,
   "metadata": {},
   "outputs": [],
   "source": [
    "df_CF_combines_aggregate = pd.concat([df_CF_task1_aggregate, df_CF_task2_aggregate])"
   ]
  },
  {
   "cell_type": "code",
   "execution_count": 45,
   "metadata": {},
   "outputs": [],
   "source": [
    "df_CF_combines_aggregate.to_csv('Turkish_Gezi_protest/CF_combined_aggreagated_tasks_21_05_2018.csv')"
   ]
  },
  {
   "cell_type": "code",
   "execution_count": 22,
   "metadata": {},
   "outputs": [
    {
     "data": {
      "text/plain": [
       "2394"
      ]
     },
     "execution_count": 22,
     "metadata": {},
     "output_type": "execute_result"
    }
   ],
   "source": [
    "len(df_CF_combines_aggregate)"
   ]
  },
  {
   "cell_type": "code",
   "execution_count": 23,
   "metadata": {},
   "outputs": [
    {
     "data": {
      "text/plain": [
       "_unit_id               2394\n",
       "_golden                2394\n",
       "_trusted_judgments     2394\n",
       "violence                994\n",
       "violence_confidence    1366\n",
       "violence_gold            94\n",
       "protest                2394\n",
       "protest_confidence     2394\n",
       "protest_gold            202\n",
       "id                     2394\n",
       "text                   2394\n",
       "created_at             2394\n",
       "dtype: int64"
      ]
     },
     "execution_count": 23,
     "metadata": {},
     "output_type": "execute_result"
    }
   ],
   "source": [
    "df_CF_combines_aggregate.count()"
   ]
  },
  {
   "cell_type": "code",
   "execution_count": 24,
   "metadata": {},
   "outputs": [],
   "source": [
    "df_CF_combines_aggreagte_test_questions = df_CF_combines_aggregate[df_CF_combines_aggregate['_golden']==True]"
   ]
  },
  {
   "cell_type": "code",
   "execution_count": 25,
   "metadata": {},
   "outputs": [],
   "source": [
    "df_CF_aggregate_finalized = df_CF_combines_aggregate[df_CF_combines_aggregate['_golden']!=True]"
   ]
  },
  {
   "cell_type": "code",
   "execution_count": 26,
   "metadata": {},
   "outputs": [
    {
     "name": "stdout",
     "output_type": "stream",
     "text": [
      "test_questions 250\n",
      "finalized 2144\n"
     ]
    }
   ],
   "source": [
    "print('test_questions', len(df_CF_combines_aggreagte_test_questions))\n",
    "print('finalized', len(df_CF_aggregate_finalized))"
   ]
  },
  {
   "cell_type": "code",
   "execution_count": 27,
   "metadata": {},
   "outputs": [
    {
     "data": {
      "text/plain": [
       "125"
      ]
     },
     "execution_count": 27,
     "metadata": {},
     "output_type": "execute_result"
    }
   ],
   "source": [
    "len(df_CF_combines_aggreagte_test_questions.drop_duplicates())"
   ]
  },
  {
   "cell_type": "code",
   "execution_count": 28,
   "metadata": {},
   "outputs": [],
   "source": [
    "df_CF_combines_aggreagte_test_questions = df_CF_combines_aggreagte_test_questions.drop_duplicates()"
   ]
  },
  {
   "cell_type": "code",
   "execution_count": 35,
   "metadata": {},
   "outputs": [
    {
     "data": {
      "image/png": "[encoded data removed]",
      "text/plain": [
       "<Figure size 432x288 with 1 Axes>"
      ]
     },
     "metadata": {},
     "output_type": "display_data"
    }
   ],
   "source": [
    "plt.hist(df_CF_combines_aggreagte_test_questions._trusted_judgments,100)\n",
    "plt.title('no judgments per test question')\n",
    "plt.show()"
   ]
  },
  {
   "cell_type": "code",
   "execution_count": 55,
   "metadata": {},
   "outputs": [
    {
     "data": {
      "image/png": "[encoded data removed]",
      "text/plain": [
       "<Figure size 432x288 with 1 Axes>"
      ]
     },
     "metadata": {},
     "output_type": "display_data"
    }
   ],
   "source": [
    "plt.hist(df_CF_aggregate_finalized._trusted_judgments,100)\n",
    "plt.title('no judgments per finalized')\n",
    "plt.show()"
   ]
  },
  {
   "cell_type": "code",
   "execution_count": 70,
   "metadata": {},
   "outputs": [
    {
     "data": {
      "image/png": "[encoded data removed]",
      "text/plain": [
       "<Figure size 432x288 with 1 Axes>"
      ]
     },
     "metadata": {},
     "output_type": "display_data"
    }
   ],
   "source": [
    "bins = list(np.arange(1,23,2))\n",
    "plt.hist(df_CF_aggregate_finalized._trusted_judgments,bins=bins)\n",
    "plt.title('no judgments per finalized')\n",
    "plt.show()"
   ]
  },
  {
   "cell_type": "code",
   "execution_count": 58,
   "metadata": {},
   "outputs": [
    {
     "name": "stdout",
     "output_type": "stream",
     "text": [
      "[ 3  5  4  6 15 14 20 18 19 11 13  8 17 12 21 10  9  7  1  2]\n"
     ]
    }
   ],
   "source": [
    "print(df_CF_aggregate_finalized._trusted_judgments.unique())"
   ]
  },
  {
   "cell_type": "code",
   "execution_count": 72,
   "metadata": {},
   "outputs": [
    {
     "data": {
      "image/png": "[encoded data removed]",
      "text/plain": [
       "<Figure size 432x288 with 1 Axes>"
      ]
     },
     "metadata": {},
     "output_type": "display_data"
    }
   ],
   "source": [
    "plt.hist(df_CF_combines_aggreagte_test_questions['protest_confidence'],50, density=1)\n",
    "plt.title('test questions protest confidence levels')\n",
    "plt.show()"
   ]
  },
  {
   "cell_type": "code",
   "execution_count": 77,
   "metadata": {},
   "outputs": [
    {
     "data": {
      "image/png": "[encoded data removed]",
      "text/plain": [
       "<Figure size 432x288 with 1 Axes>"
      ]
     },
     "metadata": {},
     "output_type": "display_data"
    }
   ],
   "source": [
    "plt.hist(df_CF_combines_aggreagte_test_questions['violence_confidence'].dropna(),50)\n",
    "plt.title('test questions violence confidence levels')\n",
    "plt.show()"
   ]
  },
  {
   "cell_type": "code",
   "execution_count": 78,
   "metadata": {},
   "outputs": [
    {
     "data": {
      "image/png": "[encoded data removed]",
      "text/plain": [
       "<Figure size 432x288 with 1 Axes>"
      ]
     },
     "metadata": {},
     "output_type": "display_data"
    }
   ],
   "source": [
    "plt.hist(df_CF_aggregate_finalized['protest_confidence'],50, density=1)\n",
    "plt.title('finalized protest confidence levels')\n",
    "plt.show()"
   ]
  },
  {
   "cell_type": "code",
   "execution_count": 80,
   "metadata": {},
   "outputs": [
    {
     "data": {
      "image/png": "[encoded data removed]",
      "text/plain": [
       "<Figure size 432x288 with 1 Axes>"
      ]
     },
     "metadata": {},
     "output_type": "display_data"
    }
   ],
   "source": [
    "plt.hist(df_CF_aggregate_finalized['violence_confidence'].dropna(),50, density=1)\n",
    "plt.title('finalized violence confidence levels')\n",
    "plt.show()"
   ]
  },
  {
   "cell_type": "code",
   "execution_count": null,
   "metadata": {},
   "outputs": [],
   "source": []
  }
 ],
 "metadata": {
  "kernelspec": {
   "display_name": "Python 3",
   "language": "python",
   "name": "python3"
  },
  "language_info": {
   "codemirror_mode": {
    "name": "ipython",
    "version": 3
   },
   "file_extension": ".py",
   "mimetype": "text/x-python",
   "name": "python",
   "nbconvert_exporter": "python",
   "pygments_lexer": "ipython3",
   "version": "3.5.3"
  }
 },
 "nbformat": 4,
 "nbformat_minor": 2
}
