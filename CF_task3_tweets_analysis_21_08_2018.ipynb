{
 "cells": [
  {
   "cell_type": "code",
   "execution_count": 1,
   "metadata": {},
   "outputs": [],
   "source": [
    "import pandas as pd\n",
    "import numpy as np\n",
    "import matplotlib.pyplot as plt"
   ]
  },
  {
   "cell_type": "code",
   "execution_count": 2,
   "metadata": {},
   "outputs": [],
   "source": [
    "cf_task3_full = pd.read_csv('Turkish_Gezi_protest/CF_task3_full_report_21_08_2018.csv')"
   ]
  },
  {
   "cell_type": "code",
   "execution_count": 3,
   "metadata": {},
   "outputs": [
    {
     "data": {
      "text/plain": [
       "835"
      ]
     },
     "execution_count": 3,
     "metadata": {},
     "output_type": "execute_result"
    }
   ],
   "source": [
    "len(cf_task3_full[\"_worker_id\"].unique())"
   ]
  },
  {
   "cell_type": "code",
   "execution_count": 5,
   "metadata": {},
   "outputs": [
    {
     "data": {
      "text/plain": [
       "0.9749019820692966"
      ]
     },
     "execution_count": 5,
     "metadata": {},
     "output_type": "execute_result"
    }
   ],
   "source": [
    "np.mean(cf_task3_full._trust)"
   ]
  },
  {
   "cell_type": "code",
   "execution_count": 7,
   "metadata": {},
   "outputs": [
    {
     "data": {
      "text/plain": [
       "<matplotlib.text.Text at 0x7faf65d46908>"
      ]
     },
     "execution_count": 7,
     "metadata": {},
     "output_type": "execute_result"
    },
    {
     "data": {
      "image/png": "[encoded data removed]",
      "text/plain": [
       "<matplotlib.figure.Figure at 0x7faf687fbe80>"
      ]
     },
     "metadata": {},
     "output_type": "display_data"
    }
   ],
   "source": [
    "plt.hist(cf_task3_full._trust)\n",
    "plt.title('contributor trust dist.')"
   ]
  },
  {
   "cell_type": "code",
   "execution_count": 6,
   "metadata": {},
   "outputs": [
    {
     "data": {
      "text/plain": [
       "Index(['_unit_id', '_created_at', '_golden', '_id', '_missed', '_started_at',\n",
       "       '_tainted', '_channel', '_trust', '_worker_id', '_country', '_region',\n",
       "       '_city', '_ip',\n",
       "       'does_this_tweet_reportdiscuss_violent_incidents_happened_during_the_protest',\n",
       "       'is_this_tweet_related_to_turkish_protests_2013', 'created_at',\n",
       "       'does_this_tweet_reportdiscuss_violent_incidents_happened_during_the_protest_gold',\n",
       "       'id', 'is_this_tweet_related_to_turkish_protests_2013_gold',\n",
       "       'proccd_text', 'text'],\n",
       "      dtype='object')"
      ]
     },
     "execution_count": 6,
     "metadata": {},
     "output_type": "execute_result"
    }
   ],
   "source": [
    "cf_task3_full.columns"
   ]
  },
  {
   "cell_type": "code",
   "execution_count": 7,
   "metadata": {},
   "outputs": [],
   "source": [
    "cf_tweets = pd.read_csv('Turkish_Gezi_protest/aggregate_results_24_07_2018.csv')"
   ]
  },
  {
   "cell_type": "code",
   "execution_count": 8,
   "metadata": {},
   "outputs": [
    {
     "data": {
      "text/plain": [
       "Index(['_unit_id', '_golden', '_unit_state', '_trusted_judgments',\n",
       "       '_last_judgment_at',\n",
       "       'does_this_tweet_reportdiscuss_violent_incidents_happened_during_the_protest',\n",
       "       'does_this_tweet_reportdiscuss_violent_incidents_happened_during_the_protest:confidence',\n",
       "       'is_this_tweet_related_to_turkish_protests_2013',\n",
       "       'is_this_tweet_related_to_turkish_protests_2013:confidence',\n",
       "       'created_at',\n",
       "       'does_this_tweet_reportdiscuss_violent_incidents_happened_during_the_protest_gold',\n",
       "       'id', 'is_this_tweet_related_to_turkish_protests_2013_gold',\n",
       "       'proccd_text', 'text'],\n",
       "      dtype='object')"
      ]
     },
     "execution_count": 8,
     "metadata": {},
     "output_type": "execute_result"
    }
   ],
   "source": [
    "cf_tweets.columns"
   ]
  },
  {
   "cell_type": "code",
   "execution_count": 9,
   "metadata": {},
   "outputs": [
    {
     "data": {
      "text/plain": [
       "6805"
      ]
     },
     "execution_count": 9,
     "metadata": {},
     "output_type": "execute_result"
    }
   ],
   "source": [
    "len(cf_tweets)"
   ]
  },
  {
   "cell_type": "code",
   "execution_count": 10,
   "metadata": {},
   "outputs": [],
   "source": [
    "cf_tweets.rename(columns={'does_this_tweet_reportdiscuss_violent_incidents_happened_during_the_protest':'violence',\n",
    "                         'is_this_tweet_related_to_turkish_protests_2013' : 'protest'}, inplace =True)"
   ]
  },
  {
   "cell_type": "code",
   "execution_count": 11,
   "metadata": {},
   "outputs": [
    {
     "data": {
      "text/plain": [
       "Text(0.5,1,'dist. of answers over protest question')"
      ]
     },
     "execution_count": 11,
     "metadata": {},
     "output_type": "execute_result"
    },
    {
     "data": {
      "image/png": "[encoded data removed]",
      "text/plain": [
       "<Figure size 432x288 with 1 Axes>"
      ]
     },
     "metadata": {},
     "output_type": "display_data"
    }
   ],
   "source": [
    "plt.hist(cf_tweets['protest'])\n",
    "plt.title(\"dist. of answers over protest question\")"
   ]
  },
  {
   "cell_type": "code",
   "execution_count": 13,
   "metadata": {},
   "outputs": [
    {
     "name": "stdout",
     "output_type": "stream",
     "text": [
      "CF positive protest:  3099\n",
      "CF negative protest:  3706\n"
     ]
    }
   ],
   "source": [
    "print('CF positive protest: ',len(cf_tweets[cf_tweets['protest'] == 1]))\n",
    "print('CF negative protest: ',len(cf_tweets[cf_tweets['protest'] == 0]))"
   ]
  },
  {
   "cell_type": "code",
   "execution_count": 14,
   "metadata": {},
   "outputs": [
    {
     "data": {
      "text/plain": [
       "Text(0.5,1,'dist. of answers over violence question')"
      ]
     },
     "execution_count": 14,
     "metadata": {},
     "output_type": "execute_result"
    },
    {
     "data": {
      "image/png": "[encoded data removed]",
      "text/plain": [
       "<Figure size 432x288 with 1 Axes>"
      ]
     },
     "metadata": {},
     "output_type": "display_data"
    }
   ],
   "source": [
    "plt.hist(cf_tweets['violence'])\n",
    "plt.title(\"dist. of answers over violence question\")"
   ]
  },
  {
   "cell_type": "code",
   "execution_count": 15,
   "metadata": {},
   "outputs": [
    {
     "name": "stdout",
     "output_type": "stream",
     "text": [
      "CF positive violence:  889\n",
      "CF negative violence:  5916\n"
     ]
    }
   ],
   "source": [
    "print('CF positive violence: ',len(cf_tweets[cf_tweets['violence'] == 1]))\n",
    "print('CF negative violence: ',len(cf_tweets[cf_tweets['violence'] == 0]))"
   ]
  },
  {
   "cell_type": "code",
   "execution_count": 16,
   "metadata": {},
   "outputs": [
    {
     "data": {
      "text/plain": [
       "Index(['_unit_id', '_golden', '_unit_state', '_trusted_judgments',\n",
       "       '_last_judgment_at', 'violence',\n",
       "       'does_this_tweet_reportdiscuss_violent_incidents_happened_during_the_protest:confidence',\n",
       "       'protest', 'is_this_tweet_related_to_turkish_protests_2013:confidence',\n",
       "       'created_at',\n",
       "       'does_this_tweet_reportdiscuss_violent_incidents_happened_during_the_protest_gold',\n",
       "       'id', 'is_this_tweet_related_to_turkish_protests_2013_gold',\n",
       "       'proccd_text', 'text'],\n",
       "      dtype='object')"
      ]
     },
     "execution_count": 16,
     "metadata": {},
     "output_type": "execute_result"
    }
   ],
   "source": [
    "cf_tweets.columns"
   ]
  },
  {
   "cell_type": "code",
   "execution_count": 17,
   "metadata": {},
   "outputs": [],
   "source": [
    "cf_tweets.rename(columns={'does_this_tweet_reportdiscuss_violent_incidents_happened_during_the_protest:confidence':'violence_confidence',\n",
    "                         'is_this_tweet_related_to_turkish_protests_2013:confidence' : 'protest_confidence'}, inplace =True)"
   ]
  },
  {
   "cell_type": "code",
   "execution_count": 18,
   "metadata": {},
   "outputs": [
    {
     "data": {
      "text/plain": [
       "Text(0.5,1,'confidence dist. for violence question')"
      ]
     },
     "execution_count": 18,
     "metadata": {},
     "output_type": "execute_result"
    },
    {
     "data": {
      "image/png": "[encoded data removed]",
      "text/plain": [
       "<Figure size 432x288 with 1 Axes>"
      ]
     },
     "metadata": {},
     "output_type": "display_data"
    }
   ],
   "source": [
    "plt.hist(cf_tweets['violence_confidence'])\n",
    "plt.title('confidence dist. for violence question')"
   ]
  },
  {
   "cell_type": "code",
   "execution_count": 20,
   "metadata": {},
   "outputs": [
    {
     "name": "stdout",
     "output_type": "stream",
     "text": [
      "violence mean confidence:  0.9283164437913294\n"
     ]
    }
   ],
   "source": [
    "print(\"violence mean confidence: \", np.mean(cf_tweets['violence_confidence']))"
   ]
  },
  {
   "cell_type": "code",
   "execution_count": 19,
   "metadata": {},
   "outputs": [
    {
     "data": {
      "text/plain": [
       "Text(0.5,1,'confidence dist. for protest question')"
      ]
     },
     "execution_count": 19,
     "metadata": {},
     "output_type": "execute_result"
    },
    {
     "data": {
      "image/png": "[encoded data removed]",
      "text/plain": [
       "<Figure size 432x288 with 1 Axes>"
      ]
     },
     "metadata": {},
     "output_type": "display_data"
    }
   ],
   "source": [
    "plt.hist(cf_tweets['protest_confidence'])\n",
    "plt.title('confidence dist. for protest question')"
   ]
  },
  {
   "cell_type": "code",
   "execution_count": 21,
   "metadata": {},
   "outputs": [
    {
     "name": "stdout",
     "output_type": "stream",
     "text": [
      "protest mean confidence:  0.8591638941954439\n"
     ]
    }
   ],
   "source": [
    "print(\"protest mean confidence: \", np.mean(cf_tweets['protest_confidence']))"
   ]
  },
  {
   "cell_type": "code",
   "execution_count": 43,
   "metadata": {},
   "outputs": [
    {
     "name": "stdout",
     "output_type": "stream",
     "text": [
      "2787 3999\n"
     ]
    }
   ],
   "source": [
    "print(len(cf_tweets[cf_tweets['protest_confidence'] < 0.7]), len(cf_tweets[cf_tweets['protest_confidence'] > 0.7]))"
   ]
  },
  {
   "cell_type": "code",
   "execution_count": 44,
   "metadata": {},
   "outputs": [
    {
     "name": "stdout",
     "output_type": "stream",
     "text": [
      "1406 5392\n"
     ]
    }
   ],
   "source": [
    "print(len(cf_tweets[cf_tweets['violence_confidence'] < 0.7]), len(cf_tweets[cf_tweets['violence_confidence'] > 0.7]))"
   ]
  },
  {
   "cell_type": "code",
   "execution_count": null,
   "metadata": {},
   "outputs": [],
   "source": []
  }
 ],
 "metadata": {
  "kernelspec": {
   "display_name": "Python 3",
   "language": "python",
   "name": "python3"
  },
  "language_info": {
   "codemirror_mode": {
    "name": "ipython",
    "version": 3
   },
   "file_extension": ".py",
   "mimetype": "text/x-python",
   "name": "python",
   "nbconvert_exporter": "python",
   "pygments_lexer": "ipython3",
   "version": "3.6.5"
  }
 },
 "nbformat": 4,
 "nbformat_minor": 2
}
