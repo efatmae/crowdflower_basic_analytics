{
 "cells": [
  {
   "cell_type": "code",
   "execution_count": 9,
   "metadata": {},
   "outputs": [],
   "source": [
    "import pandas as pd\n",
    "import matplotlib.pyplot as plt"
   ]
  },
  {
   "cell_type": "code",
   "execution_count": 3,
   "metadata": {},
   "outputs": [],
   "source": [
    "cf_t1 = pd.read_csv(\"Turkish_Gezi_protest/CF_task1_fullreport_21_08_2018.csv\")"
   ]
  },
  {
   "cell_type": "code",
   "execution_count": null,
   "metadata": {},
   "outputs": [],
   "source": []
  },
  {
   "cell_type": "code",
   "execution_count": 12,
   "metadata": {},
   "outputs": [
    {
     "data": {
      "text/plain": [
       "Index(['_unit_id', '_created_at', '_golden', '_id', '_missed', '_started_at',\n",
       "       '_tainted', '_channel', '_trust', '_worker_id', '_country', '_region',\n",
       "       '_city', '_ip',\n",
       "       'does_this_tweet_reportdiscuss_violent_incidents_happened_during_the_protest',\n",
       "       'is_this_tweet_related_to_turkish_protests_2013', 'orig__golden',\n",
       "       'created_at',\n",
       "       'does_this_tweet_reportdiscuss_violent_incidents_happened_during_the_protest_gold',\n",
       "       'id', 'is_this_tweet_related_to_turkish_protests_2013_gold', 'label',\n",
       "       'text'],\n",
       "      dtype='object')"
      ]
     },
     "execution_count": 12,
     "metadata": {},
     "output_type": "execute_result"
    }
   ],
   "source": [
    "cf_t1.columns"
   ]
  },
  {
   "cell_type": "code",
   "execution_count": 5,
   "metadata": {},
   "outputs": [
    {
     "data": {
      "text/plain": [
       "110"
      ]
     },
     "execution_count": 5,
     "metadata": {},
     "output_type": "execute_result"
    }
   ],
   "source": [
    "len(cf_t1._worker_id.unique())"
   ]
  },
  {
   "cell_type": "code",
   "execution_count": 11,
   "metadata": {},
   "outputs": [
    {
     "data": {
      "image/png": "[encoded data removed]",
      "text/plain": [
       "<matplotlib.figure.Figure at 0x7f871f7372e8>"
      ]
     },
     "metadata": {},
     "output_type": "display_data"
    }
   ],
   "source": [
    "plt.hist(cf_t1._trust)\n",
    "plt.show()"
   ]
  },
  {
   "cell_type": "code",
   "execution_count": 13,
   "metadata": {},
   "outputs": [],
   "source": [
    "cf_t1_agg = pd.read_csv(\"Turkish_Gezi_protest/CF_task1_aggreagted_21_08_2018.csv\")"
   ]
  },
  {
   "cell_type": "code",
   "execution_count": 14,
   "metadata": {},
   "outputs": [
    {
     "data": {
      "text/plain": [
       "Index(['_unit_id', '_golden', '_unit_state', '_trusted_judgments',\n",
       "       '_last_judgment_at',\n",
       "       'does_this_tweet_reportdiscuss_violent_incidents_happened_during_the_protest',\n",
       "       'does_this_tweet_reportdiscuss_violent_incidents_happened_during_the_protest:confidence',\n",
       "       'is_this_tweet_related_to_turkish_protests_2013',\n",
       "       'is_this_tweet_related_to_turkish_protests_2013:confidence',\n",
       "       'orig__golden', 'created_at',\n",
       "       'does_this_tweet_reportdiscuss_violent_incidents_happened_during_the_protest_gold',\n",
       "       'id', 'is_this_tweet_related_to_turkish_protests_2013_gold', 'label',\n",
       "       'text'],\n",
       "      dtype='object')"
      ]
     },
     "execution_count": 14,
     "metadata": {},
     "output_type": "execute_result"
    }
   ],
   "source": [
    "cf_t1_agg.columns"
   ]
  },
  {
   "cell_type": "code",
   "execution_count": 24,
   "metadata": {},
   "outputs": [
    {
     "data": {
      "image/png": "[encoded data removed]",
      "text/plain": [
       "<matplotlib.figure.Figure at 0x7f871eff0c88>"
      ]
     },
     "metadata": {},
     "output_type": "display_data"
    }
   ],
   "source": [
    "plt.hist(cf_t1_agg['does_this_tweet_reportdiscuss_violent_incidents_happened_during_the_protest:confidence'].dropna())\n",
    "plt.title('confidence dist. over violence question')\n",
    "plt.show()"
   ]
  },
  {
   "cell_type": "code",
   "execution_count": 25,
   "metadata": {},
   "outputs": [
    {
     "data": {
      "image/png": "[encoded data removed]",
      "text/plain": [
       "<matplotlib.figure.Figure at 0x7f871f108518>"
      ]
     },
     "metadata": {},
     "output_type": "display_data"
    }
   ],
   "source": [
    "plt.hist(cf_t1_agg['is_this_tweet_related_to_turkish_protests_2013:confidence'])\n",
    "plt.title('confidence dist. over protest question')\n",
    "plt.show()"
   ]
  },
  {
   "cell_type": "code",
   "execution_count": null,
   "metadata": {},
   "outputs": [],
   "source": []
  }
 ],
 "metadata": {
  "kernelspec": {
   "display_name": "Python 3",
   "language": "python",
   "name": "python3"
  },
  "language_info": {
   "codemirror_mode": {
    "name": "ipython",
    "version": 3
   },
   "file_extension": ".py",
   "mimetype": "text/x-python",
   "name": "python",
   "nbconvert_exporter": "python",
   "pygments_lexer": "ipython3",
   "version": "3.4.5"
  }
 },
 "nbformat": 4,
 "nbformat_minor": 2
}
